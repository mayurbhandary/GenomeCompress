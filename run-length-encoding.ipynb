{
 "cells": [
  {
   "cell_type": "code",
   "execution_count": 94,
   "id": "69f718fd-059f-458b-9ab3-f5dd07f324b4",
   "metadata": {},
   "outputs": [],
   "source": [
    "from sys import getsizeof\n",
    "\n",
    "dataset_name = \"covid-sequence.txt\"\n",
    "\n",
    "f = open(dataset_name, \"r\")\n",
    "lines = f.readlines()\n",
    "genome = ''.join(''.join(lines).split())\n",
    "genome\n",
    "\n",
    "def write_to_file(filename, str_compress, bytefile=False):\n",
    "    if bytefile:\n",
    "        file1 = open(filename,\"wb\")\n",
    "    else:\n",
    "        file1 = open(filename,\"w\")\n",
    "    file1.write(str_compress)\n",
    "    file1.close()\n",
    "\n",
    "def compare_file(filename1, filename2):\n",
    "    import os\n",
    "    size_a = os.path.getsize(filename1)\n",
    "    size_b = os.path.getsize(filename2)\n",
    "    print(\"Size of fileA: \", size_a)\n",
    "    print(\"Size of fileB: \", size_b)"
   ]
  },
  {
   "cell_type": "code",
   "execution_count": 95,
   "id": "8cdc4547-ef75-4279-b268-108aa353ac93",
   "metadata": {},
   "outputs": [
    {
     "name": "stdout",
     "output_type": "stream",
     "text": [
      "Size of fileA:  3139\n",
      "Size of fileB:  3789\n"
     ]
    }
   ],
   "source": [
    "# Basic Run length encoding \n",
    "MAX_RUN = 4 #not being used currently\n",
    "genome_size = len(genome)\n",
    "\n",
    "def run_length_coding(sequence):\n",
    "    compressed = \"\"\n",
    "    size = len(sequence)\n",
    "    i = 0\n",
    "    while i < size: \n",
    "        run_length = 1\n",
    "        k = i+1\n",
    "        while k < size and sequence[i]==sequence[k]:\n",
    "            run_length += 1\n",
    "            k += 1\n",
    "    \n",
    "        compressed += sequence[i] + str(run_length)*( 0 if run_length==1 else 1)\n",
    "        i = k   \n",
    "    return compressed\n",
    "\n",
    "result = run_length_coding(genome)\n",
    "filename = \"algo-1.txt\"\n",
    "write_to_file(filename,result)\n",
    "compare_file(filename, dataset_name)"
   ]
  },
  {
   "cell_type": "code",
   "execution_count": 96,
   "id": "db26c4e5-7d3d-4496-9d55-1eeb1d2c4937",
   "metadata": {},
   "outputs": [
    {
     "name": "stdout",
     "output_type": "stream",
     "text": [
      "Size of fileA:  1120\n",
      "Size of fileB:  3789\n"
     ]
    }
   ],
   "source": [
    "# Gzip compression\n",
    "import gzip\n",
    "compressed_gzip = gzip.compress(bytes(genome, 'utf-8'))\n",
    "\n",
    "# print (compressed_gzip)\n",
    "# a = getsizeof(compressed_gzip)\n",
    "# b = getsizeof(genome)\n",
    "# c = getsizeof( bytes('1067789', 'utf-8') )\n",
    "# print (a,b, c)\n",
    "filename = \"algo-gzip.bin\"\n",
    "write_to_file(filename, compressed_gzip, True)\n",
    "compare_file(filename, dataset_name)"
   ]
  },
  {
   "cell_type": "code",
   "execution_count": 97,
   "id": "864d3c4f-67f3-4695-8d59-7d5c71cc95d4",
   "metadata": {},
   "outputs": [
    {
     "name": "stdout",
     "output_type": "stream",
     "text": [
      "1020\n",
      "Size of fileA:  1020\n",
      "Size of fileB:  3789\n"
     ]
    }
   ],
   "source": [
    "# Bzip2 compression\n",
    "import bz2\n",
    "compressed_bzip = bz2.compress(bytes(genome, 'utf-8'))\n",
    "print (len(compressed_bzip))\n",
    "filename = \"algo-bzip.bin\"\n",
    "write_to_file(filename, compressed_bzip, True)\n",
    "compare_file(filename, dataset_name)"
   ]
  },
  {
   "cell_type": "code",
   "execution_count": 98,
   "id": "357570c4",
   "metadata": {},
   "outputs": [
    {
     "name": "stdout",
     "output_type": "stream",
     "text": [
      "['0', '0', '0', '1', '0', '1', '1', '0', '1', '1', '1', '0', '0', '1', '0', '0'] atgatgattatgatacggattttgttccaccttctccagaagaaattatt\n",
      "['0', '1', '1', '0', '0', '0', '0', '0', '0', '0', '0', '0', '0', '0', '0', '0']\n"
     ]
    }
   ],
   "source": [
    "# Split encoding\n",
    "a_rle = []\n",
    "g_rle = []\n",
    "c_rle = []\n",
    "t_rle = []\n",
    "for i in range(genome_size):\n",
    "    if genome[i] == 'a':\n",
    "        a_rle.append('1')\n",
    "    else:\n",
    "        a_rle.append('0')\n",
    "\n",
    "    if genome[i] == 'g':\n",
    "        g_rle.append('1')\n",
    "    else:\n",
    "        g_rle.append('0')\n",
    "\n",
    "    if genome[i] == 'c':\n",
    "        c_rle.append('1')\n",
    "    else:\n",
    "        c_rle.append('0')\n",
    "\n",
    "    if genome[i] == 't':\n",
    "        t_rle.append('1')\n",
    "    else:\n",
    "        t_rle.append('0')\n",
    "print (a_rle[164:180], genome[130:180])\n",
    "print (c_rle[164:180])"
   ]
  },
  {
   "cell_type": "code",
   "execution_count": 99,
   "id": "12177568",
   "metadata": {},
   "outputs": [
    {
     "name": "stdout",
     "output_type": "stream",
     "text": [
      "[1, 2, 1, 1, 5, 1, 2, 3, 3, 1, 7, 4, 3, 1, 5, 2, 1, 1, 2, 3, 1, 1, 1, 1, 1, 2, 1, 1, 3, 4, 1, 2, 1, 2, 1, 2, 5, 2, 1, 2, 4, 2, 2, 1, 1, 1, 3, 2, 3, 1, 1, 3, 5, 1, 3, 1, 3, 2, 4, 1, 2, 1, 2, 1, 2, 1, 2, 1, 2, 1, 1, 1, 3, 1, 9, 1, 8, 1, 1, 2, 1, 3, 2, 1, 22, 4, 6, 1, 2, 1, 4, 3, 2, 1, 5, 1, 1, 1, 6, 1, 1, 1, 1, 4, 1, 1, 2, 1, 7, 1, 2, 1, 1, 1, 2, 4, 1, 1, 9, 4, 4, 1, 1, 4, 2, 1, 2, 1, 3, 1, 2, 1, 4, 2, 3, 1, 1, 3, 2, 1, 2, 1, 1, 1, 1, 1, 5, 1, 4, 1, 1, 1, 1, 1, 1, 1, 1, 2, 4, 1, 1, 1, 2, 1, 2, 1, 4, 1, 3, 1, 4, 1, 3, 1, 2, 1, 1, 1, 5, 3, 2, 2, 3, 1, 1, 1, 2, 1, 6, 1, 2, 1, 1, 3, 3, 3, 7, 1, 7, 2, 2, 2, 7, 1, 2, 1, 4, 2, 1, 1, 1, 2, 1, 2, 2, 3, 5, 2, 3, 2, 2, 1, 1, 1, 4, 2, 1, 4, 3, 1, 4, 1, 13, 1, 6, 1, 1, 1, 1, 1, 1, 1, 6, 1, 3, 1, 4, 1, 7, 1, 3, 1, 5, 1, 10, 1, 1, 1, 3, 2, 4, 1, 2, 2, 2, 1, 3, 3, 6, 1, 1, 1, 9, 3, 17, 1, 6, 1, 3, 1, 2, 1, 2, 1, 4, 1, 2, 3, 1, 1, 1, 1, 2, 1, 9, 1, 2, 1, 2, 2, 1, 2, 8, 3, 7, 1, 3, 2, 1, 1, 3, 1, 3, 1, 1, 1, 1, 2, 9, 2, 2, 1, 2, 2, 8, 3, 1, 1, 2, 2, 1, 1, 2, 1, 2, 9, 2, 3, 6, 1, 6, 1, 2, 3, 7, 1, 1, 2, 2, 1, 8, 3, 1, 1, 2, 1, 1, 2, 1, 3, 1, 1, 1, 1, 7, 2, 1, 3, 2, 1, 3, 1, 1, 3, 1, 1, 1, 3, 3, 2, 7, 1, 2, 1, 1, 1, 3, 1, 1, 2, 5, 1, 1, 1, 1, 1, 1, 1, 2, 1, 5, 1, 2, 1, 2, 1, 2, 1, 2, 1, 5, 2, 1, 1, 1, 1, 1, 2, 3, 1, 1, 2, 3, 1, 2, 1, 3, 1, 2, 3, 6, 1, 1, 1, 7, 1, 2, 2, 3, 1, 2, 2, 2, 2, 8, 2, 2, 3, 2, 1, 2, 1, 2, 1, 1, 3, 1, 1, 8, 1, 3, 2, 1, 1, 1, 1, 1, 1, 9, 1, 5, 1, 3, 1, 6, 4, 1, 1, 1, 3, 6, 1, 1, 1, 3, 2, 3, 1, 1, 2, 2, 1, 1, 1, 3, 1, 1, 2, 3, 1, 2, 1, 1, 4, 3, 1, 2, 1, 3, 1, 1, 3, 4, 3, 1, 1, 2, 1, 8, 3, 5, 1, 9, 1, 1, 1, 1, 3, 2, 3, 2, 1, 2, 2, 1, 1, 6, 1, 1, 6, 10, 1, 1, 2, 4, 1, 1, 2, 2, 2, 2, 1, 3, 1, 1, 1, 4, 1, 2, 2, 6, 1, 10, 2, 1, 1, 7, 1, 5, 1, 5, 1, 4, 1, 6, 2, 1, 1, 9, 1, 2, 1, 28, 1, 8, 1, 11, 1, 1, 1, 2, 1, 3, 1, 4, 1, 1, 1, 2, 2, 4, 4, 4, 1, 9, 1, 1, 1, 4, 1, 3, 1, 1, 1, 1, 1, 4, 1, 1, 1, 4, 1, 1, 2, 1, 1, 3, 1, 3, 1, 1, 2, 3, 1, 1, 3, 1, 1, 3, 1, 5, 1, 3, 1, 2, 7, 1, 1, 3, 2, 2, 1, 1, 4, 5, 1, 1, 1, 4, 1, 4, 1, 1, 4, 1, 1, 7, 2, 2, 2, 1, 1, 1, 1, 3, 1, 5, 1, 6, 1, 1, 2, 5, 1, 2, 1, 1, 1, 2, 2, 9, 1, 9, 1, 3, 1, 2, 2, 2, 1, 1, 1, 7, 1, 3, 1, 6, 1, 1, 1, 2, 1, 8, 2, 1, 1, 2, 1, 1, 4, 1, 2, 2, 2, 1, 1, 9, 1, 1, 2, 19, 1, 8, 1, 5, 1, 1, 1, 3, 2, 4, 1, 4, 1, 1, 1, 1, 2, 2, 1, 1, 1, 5, 1, 3, 1, 4, 2, 1, 1, 5, 1, 1, 1, 4, 1, 7, 1, 2, 1, 2, 1, 5, 2, 1, 1, 1, 1, 1, 1, 1, 2, 4, 3, 1, 1, 2, 1, 3, 1, 2, 1, 3, 5, 4, 5, 6, 1, 4, 1, 6, 1, 1, 2, 3, 1, 2, 1, 1, 3, 2, 1, 2, 1, 3, 1, 1, 1, 2, 1, 3, 1, 3, 1, 1, 2, 3, 1, 10, 1, 4, 1, 1, 2, 4, 1, 1, 1, 2, 1, 6, 1, 1, 1, 4, 1, 1, 1, 1, 2, 4, 1, 2, 2, 2, 1, 2, 1, 8, 1, 4, 1, 8, 1, 1, 2, 4, 1, 5, 2, 5, 1, 3, 1, 1, 3, 4, 1, 6, 1, 6, 1, 3, 1, 3, 1, 9, 3, 7, 1, 5, 1, 2, 1, 2, 2, 1, 2, 6, 1, 1, 1, 5, 2, 1, 1, 1, 1, 5, 3, 1, 1, 4, 1, 14, 1, 1, 1, 3, 1, 2, 1, 2, 1, 4, 1, 2, 1, 1, 1, 3, 4, 1, 1, 3, 1, 1, 2, 2, 1, 3, 5, 1, 1, 3, 3, 2, 1, 2, 1, 1, 1, 1, 2, 1, 1, 1, 3, 3, 1, 4, 2, 1, 2, 5, 1, 1, 1, 2, 1, 4, 1, 1, 1, 2, 1, 5, 4, 1, 1, 1, 2, 3, 2, 3, 1, 2, 1, 1, 2, 1, 1, 1, 1, 11, 1, 8, 4, 3, 1, 3, 2, 5, 1, 7, 2, 1, 3, 1, 1, 3, 1, 1, 1, 11, 1, 1, 2, 7, 4, 1, 3, 2, 1, 2, 1, 1, 4, 1, 2, 1, 1, 1, 1, 4, 1, 3, 1, 2, 1, 4, 4, 2, 1, 4, 2, 1, 1, 7, 2, 1, 2, 1, 1, 1, 1, 4, 1, 2, 1, 1, 2, 2, 2, 2, 1, 1, 3, 1, 1, 1, 4, 1, 1, 3, 1, 11, 2, 1, 1, 3, 1, 2, 1, 2, 2, 1, 1, 9, 1, 1, 1, 11, 1, 2, 2, 1, 1, 4, 5, 3, 1, 3, 1, 3, 1, 1, 1, 5, 4, 2, 1, 7, 1, 3, 1, 2, 1, 1, 1, 1, 2, 5, 3, 1, 1, 6, 5, 4, 1, 1, 1, 4, 1, 1, 2, 1, 1, 6, 1, 2, 2, 1, 1, 3, 1, 1, 1, 1, 1, 2, 2, 4, 2, 2, 1, 2, 1, 4, 1, 6, 1, 4, 1, 3, 4, 4, 1, 2, 1, 5, 6, 1, 5, 5, 1, 2, 1, 2, 4, 7, 1, 1, 1, 3, 2, 1, 1, 1, 1, 5, 6, 8, 1, 1, 2, 3, 1, 1, 1, 1, 2, 6, 3, 9, 3, 13, 1, 2, 1, 4, 2, 1, 1, 5, 2, 1, 1, 5, 1, 5, 2, 1, 2, 6, 1, 1, 2, 5, 1, 7, 1, 5, 1, 11, 3, 3, 1, 7, 1, 3, 2, 1, 1, 1, 3, 4, 5, 1, 1, 8, 2, 3, 1, 4, 1, 2, 1, 2, 1, 1, 1, 1, 3, 1, 1, 5, 2, 3, 1, 1, 1, 5, 1, 4, 2, 1, 1, 1, 1, 7, 1, 3, 1, 1, 2, 8, 1, 2, 1, 2, 1, 1, 1, 8, 2, 1, 2, 9, 1, 2, 1, 5, 1, 2, 1, 2, 3, 1, 1, 5, 1, 7, 1, 2, 1, 6, 2, 2, 4, 2, 1, 1, 3, 2, 3, 2, 2, 1, 1, 2, 5, 1, 1, 4, 1, 7, 3, 5, 2, 1, 1, 2, 1, 1, 5, 8, 1, 8, 2, 3, 3, 13, 1, 1, 1, 3, 1, 1, 3, 1, 1, 1, 1, 6, 4, 2, 3, 6, 1, 2, 1, 2, 1, 4, 1, 3, 1, 4, 1, 5, 1, 1, 1, 1, 1, 6, 2, 3, 1, 1, 1, 2, 1, 2, 1, 3, 2, 1, 1, 2, 3, 6, 1, 2, 1, 7, 1, 3, 2, 4, 1, 1, 3, 1, 1, 1, 1, 9, 2, 6, 1, 1, 1, 3, 1, 5, 1, 1, 2, 1, 2, 3, 2, 4, 2, 3, 1, 1, 1, 1, 1, 1, 1, 18, 1, 2, 1, 4, 1, 2, 1, 6, 1, 2, 1, 1, 2]\n"
     ]
    }
   ],
   "source": [
    "def split_encoding(sequence):\n",
    "    sequence = ['0'] + sequence if sequence[0]=='1' else sequence #start every sequence with 0\n",
    "    compressed = []\n",
    "    size = len(sequence)\n",
    "    i = 0\n",
    "    while i < size: \n",
    "        run_length = 1\n",
    "        k = i+1\n",
    "        while k < size and sequence[i]==sequence[k]:\n",
    "            run_length += 1\n",
    "            k += 1\n",
    "        compressed += [run_length]\n",
    "        i = k\n",
    "    # new_compress = ''\n",
    "    # print (compressed[164:189], compressed[189])\n",
    "    # for i in range(len(compressed)):\n",
    "    #     if i%2==1:\n",
    "    #         new_compress += compressed[i] + f\"-{i} : \"\n",
    "    return compressed\n",
    "\n",
    "a_bin = split_encoding(a_rle)\n",
    "g_bin = split_encoding(g_rle)\n",
    "c_bin = split_encoding(c_rle)\n",
    "t_bin = split_encoding(t_rle)\n",
    "\n",
    "print (a_bin)\n",
    "# print (split_encoding(g_rle))"
   ]
  }
 ],
 "metadata": {
  "interpreter": {
   "hash": "879307c2bc1d4bdd62e583023e3ec92ba3b6096dba47ac80cfb515b05e9be198"
  },
  "kernelspec": {
   "display_name": "Python 3.8.11 64-bit ('Module0': conda)",
   "name": "python3"
  },
  "language_info": {
   "codemirror_mode": {
    "name": "ipython",
    "version": 3
   },
   "file_extension": ".py",
   "mimetype": "text/x-python",
   "name": "python",
   "nbconvert_exporter": "python",
   "pygments_lexer": "ipython3",
   "version": "3.8.11"
  }
 },
 "nbformat": 4,
 "nbformat_minor": 5
}

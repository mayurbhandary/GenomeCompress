{
 "cells": [
  {
   "cell_type": "code",
   "execution_count": 21,
   "id": "69f718fd-059f-458b-9ab3-f5dd07f324b4",
   "metadata": {},
   "outputs": [
    {
     "data": {
      "text/plain": [
       "'gaagatgctcaggaaagtgactctctgaaaactcatttggaagatgaaagagataatagcgaaaagaagaagaatttggaagaagctgaattacattcaactgagaaagttccatgtattgaatttgatgatgatgattatgatacggattttgttccaccttctccagaagaaattatttctgcttcttcttcctcttcaaaatgccttagtacgttaaaggaccttgacacctctgacagaaaagaggatgttcttagcacatcaaaagatcttttgtcaaaacctgagaaaatgagtatgcaggagctgaatccagaaaccagcacagactgtgacgctagacagataagtttacagcagcagcttattcatgtgatggagcacatctgtaaattaattgatactattcctgatgataaactgaaacctttggattgtgggaacgaactgcttcagcagcggaacataagaaggaaacttctaacggaagtagattttaataaaagtgatgccagtcttcttggctcattgtggagatacaggcctgattcacttgatggccctatggagggtgattcctgccctacagggaattctatgaaggagttaaatttttcacaccttccctcaaattctgtttctcctggggactgtttactgactaccaccctaggaaagacaggattctctgccaccaggaagaatctttttgaaaggcctttattcaatacccatttacagaagtcctttgtaagtagcaactgggctgaaacaccaagactaggaaaaaaaaatgaaagctcttatttcccaggaaatgttctcacaagcactgctgtgaaagatcagaataaacatactgcttcaataaatgacttagaaagagaaacccaaccttcctatgatattgataattttgacatagatgactttgatgatgatgatgactgggaagacataatgcataatttagcagccagcaaatcttccacagctgcctatcaacccatcaaggaaggtcggccaattaaatcagtatcagaaagactttcctcagccaagacagactgtcttccagtgtcatctactgctcaaaatataaacttctcagagtcaattcagaattatactgacaagtcagcacaaaatttagcatccagaaatctgaaacatgagcgtttccaaagtcttagttttcctcatacaaaggaaatgatgaagatttttcataaaaaatttggcctgcataattttagaactaatcagctagaggcgatcaatgctgcactgcttggtgaagactgttttatcctgatgccgactggaggtggtaagagtttgtgttaccagctccctgcctgtgtttctcctggggtcactgttgtcatttctcccttgagatcacttatcgtagatcaagtccaaaagctgacttccttggatattccagctacatatctgacaggtgataagactgactcagaagctacaaatatttacctccagttatcaaaaaaagacccaatcataaaacttctatatgtcactccagaaaagatctgtgcaagtaacagactcatttctactctggagaatctctatgagaggaagctcttggcacgttttgttattgatgaagcacattgtgtcagtcagtggggacatgattttcgtcaagattacaaaagaatgaatatgcttcgccagaagtttccttctgttccggtgatggctcttacggccacagctaatcccagggtacagaaggacatcctgactcagctgaagattctcagacctcaggtgtttagcatgagctttaacagacataatctgaaatactatgtattaccgaaaaagcctaaaaaggtggcatttgattgcctagaatggatcagaaagcaccacccatatgattcagggataatttactgcctctccaggcgagaatgtgacaccatggctgacacgttacagaagtggattaatcaggatggctgtcaggttatctgtgctacaattgcatttggaatggggattgacaaaccggacgtgcgatttgtgattcatgcatctctccctaaatctgtggagggttactaccaagaatctggcagagctggaagagatggggaaatatctcactgcctgcttttctatacctatcatgatgtgaccagactgaaaagacttataatgatggaaaaagatggaaaccatcatacaagagaaactcacttcaataatttgtatagcatggtacattactgtgaaaatataacggaatgcaggagaatacagcttttggcctactttggtgaaaatggatttaatcctgatttttgtaagaaacacccagatgtttcttgtgataattgctgtaaaacaaaggattataaaacaagagatgtgactgacgatgtgaaaagtattgtaagatttgttcaagaacatagttcatcacaaggaatgagaaatataaaacatgtaggtccttctggaagatttactatgaatatgctggtcgacattttcttggggagtaagagtgcaaaaatccagtcaggtatatttggaaaaggatctgcttattcacgacacaatgccgaaagactttttaaaaagctgatacttgacaagattttggatgaagacttatatatcaatgccaatgaccaggcgatcgcttatgtgatggaaaattccagcagtgtgaaaaaacaaaaagcgttagtagcaaaagtgtctcagagggaagagatggttaaaaaatgtcttggagaacttacagaagtctgcaaatctctggggaaagtttttggtgtccattacttcaatatttttaataccgtcactctcaagaagcttgcagaatctttatcttctgatcctgaggttttgcttcaaattgatggtgttactgaagacaaactggaaaaatatggtgcggaagtgatttcagtattacagaaatactctgaatggacatcgccagctgaagacagttccccagggataagcctgtccagcagcagaggccccggaagaagtgccgctgaggagctcgacgaggaaatacccgtatcttcccactactttgcaagtaaaaccagaaatgaaaggaagaggaaaaagatgccagcctcccaaaggtctaagaggagaaaaactgcttccagtggttccaaggcaaagggggggtctgccacatgtagaaagatatcttccaaaacgaaatcctccagcatcattggatccagttcagcctcacatacttctcaagcgacatcaggagccaatagcaaattggggattatggctccaccgaagcctataaatagaccgtttcttaagccttcatatgcattctcataacaaccgaatctcaatgtacatagaccctctttcttgtttgtcagcatctgaccatctgtgactataa'"
      ]
     },
     "execution_count": 21,
     "metadata": {},
     "output_type": "execute_result"
    }
   ],
   "source": [
    "f = open(\"bloom-syndrome-protein.txt\", \"r\")\n",
    "lines = f.readlines()\n",
    "genome = ''.join(''.join(lines).split())\n",
    "genome"
   ]
  },
  {
   "cell_type": "code",
   "execution_count": 17,
   "id": "8cdc4547-ef75-4279-b268-108aa353ac93",
   "metadata": {},
   "outputs": [
    {
     "data": {
      "text/plain": [
       "3139"
      ]
     },
     "execution_count": 17,
     "metadata": {},
     "output_type": "execute_result"
    }
   ],
   "source": [
    "MAX_RUN = 4\n",
    "genome_size = len(genome)\n",
    "compressed = \"\"\n",
    "i = 0\n",
    "while i < genome_size: \n",
    "    run_length = 1\n",
    "    k = i+1\n",
    "    while k < genome_size:\n",
    "        if genome[i]==genome[k]:\n",
    "            run_length += 1\n",
    "            k += 1\n",
    "        else:\n",
    "            break\n",
    "   \n",
    "    if run_length == 1:\n",
    "        compressed += genome[i]\n",
    "    else:\n",
    "        compressed += str(run_length) + genome[i]\n",
    "    i = k   \n",
    "len(compressed)"
   ]
  },
  {
   "cell_type": "code",
   "execution_count": 22,
   "id": "db26c4e5-7d3d-4496-9d55-1eeb1d2c4937",
   "metadata": {},
   "outputs": [
    {
     "data": {
      "text/plain": [
       "'g2agatgctca2g3agtgactctctg4actca3t2g2agatg3agagat2atagcg4ag2ag2ag2a3t2g2ag2agctg2a2taca2tc2actgag3ag2t2catgta2tg2a3tgatgatgatga2tatgatac2ga4tg2t2ca2c2tct2cag2ag3a2ta3tctgc2tc2tc2t2ctc2tc4atg2c2tagtacg2t3a2ga2c2tgaca2ctctgacag4aga2gatg2tc2tagcacatc4agatc4tgtc4a2ctgag4atgagtatgca2gagctg2at2cag3a2cagcacagactgtgacgctagacagat2ag3tacagcagcagc2ta2tcatgtgat2gagcacatctgt3a2t2a2tgatacta2t2ctgatgat3actg3a2c3t2ga2tgt3g2acg2actgc2tcagcagc2g2acat2ag2a2g3ac2tct2ac2g2agtaga4t2at4agtgatg2cagtc2tc2t2gctca2tgt2gagataca2g2ctga2tcac2tgat2g3ctat2ga3gtga2t2ctg3ctaca3g2a2tctatg2a2gag2t3a5tcaca2c2t3ctc3a2tctg3tct2ct4gactg3tactgacta2ca3cta2g3agaca2ga2tctctg2ca2ca2g2ag2atc5tg3a2g2c3ta2tc2ata3ca3tacag2agt2c3tgt2agtagc2act3gctg3aca2c2agacta2g9atg3agctc2ta3t3ca2g3atg2tctcac2agcactgctgtg3agatcag2at3acatactgc2tc2at3atgac2tag3agag3a3c2a2c2t2ctatgata2tgat2a4tgacatagatgac3tgatgatgatgatgact3g2agacat2atgcat2a3tagcag2cagc3atc2t2cacagctg2ctatc2a3catc2a2g2a2gtc2g2c2a2t3atcagtatcag3agac3t2ctcag2c2agacagactgtc2t2cagtgtcatctactgctc4atat3ac2tctcagagtc2a2tcag2a2tatactgac2agtcagcac4a3tagcat2cag3atctg3acatgagcg3t2c3agtc2tag4t2ctcatac3a2g3atgatg2aga5tcat6a3t2g2ctgcat2a4tag2act2atcagctaga2gcgatc2atgctgcactgc2t2gtg2agactg4tat2ctgatg2cgact2ga2gt2gt2agag3tgtg2ta2cagct3ctg2ctgtg3tct2ct4gtcactg2tgtca3tct3c2tgagatcac2tatcgtagatc2agt2c4agctgac2t2c2t2gata2t2cagctacatatctgaca2gtgat2agactgactcag2agctac3ata3ta2ct2cag2tatc7aga3c2atcat4ac2tctatatgtcact2cag4agatctgtgc2agt2acagactca3tctactct2gag2atctctatgaga2g2agctc2t2gcacg4tg2ta2tgatg2agcaca2tgtgtcagtcagt4gacatga4tcgtc2aga2tac4ag2atg2atatgc2tcg2cag2ag3t2c2tctg2t2c2gtgat2gctc2tac2g2cacagct2at3ca3gtacag2a2gacat2ctgactcagctg2aga2tctcaga2ctca2gtg3tagcatgagc3t2acagacat2atctg3atactatgta2ta2cg5ag2ct5a2gt2gca3tga2tg2ctag2at2gatcag3agca2ca3catatga2tca3gat2a3tactg2ctct2ca2gcgag2atgtgaca2cat2gctgacacg2tacag2agt2ga2t2atca2gat2gctgtca2g2tatctgtgctac2a2tgca3t2g2at4ga2tgac3a2c2gacgtgcga3tgtga2tcatgcatctct3ct3atctgt2ga3g2tacta2c2ag2atct2gcagagct2g2agagat4g3atatctcactg2ctgc4tctata2ctatcatgatgtga2cagactg4agac2tat2atgat2g5agat2g3a2catcatac2agag3actcac2tc2at2a3tgtatagcat2gtaca2tactgtg4atat2ac2g2atgca2gag2atacagc4t2g2ctac3t2gtg4at2ga3t2at2ctga5tgt2ag3aca3cagatg3tc2tgtgat2a2tgctgt4ac3a2ga2tat4ac2agagatgtgactgacgatgtg4agta2tgt2aga3tg2tc2ag2acatag2tcatcac2a2g2atgag3atat4acatgta2gt2c2tct2g2aga3tactatg2atatgct2gtcgaca4tc2t4gagt2agagtgc5at2cagtca2gtata3t2g4a2gatctgc2ta2tcacgacac2atg2cg3agac5t5agctgatac2tgac2aga4t2gatg2agac2tatatatc2atg2c2atga2ca2gcgatcgc2tatgtgat2g4a2t2cagcagtgtg6ac5agcg2tagtagc4agtgtctcaga3g2agagat2g2t6atgtc2t2gag2ac2tacag2agtctgc3atctct4g3ag5t2gtgt2ca2tac2tc2ata5t2ata2cgtcactctc2ag2agc2tgcag2atc3tatc2tctgat2ctga2g4tgc2tc3a2tgat2gtg2tactg2agac3act2g5atat2gtgc2g2agtga3tcagta2tacag3atactctg2at2gacatcg2cagctg2agacag2t4ca3gat2ag2ctgt2cagcagcaga2g4c2g2ag2agtg2cgctga2gagctcgacga2g3ata3cgtatc2t3cactac3tgc2agt4a2cag3atg3a2g2aga2g5agatg2cag2ct3c3a2gtct2aga2gag5actgc2t2cagt2g2t2c2a2gc3a7gtctg2cacatgtag3agatatc2t2c4acg3at2ct2cagcatca2t2gat2cag2tcag2ctcacatac2tctc2agcgacatca2gag2c2atagc3a2t4ga2tat2gct2ca2cg2ag2ctat3ataga2cg3tc2t2ag2c2tcatatgca2tctcat2ac2a2cg2atctc2atgtacataga3ctc3tc2tg3tgtcagcatctga2catctgtgactat2a'"
      ]
     },
     "execution_count": 22,
     "metadata": {},
     "output_type": "execute_result"
    }
   ],
   "source": [
    "compressed"
   ]
  },
  {
   "cell_type": "code",
   "execution_count": null,
   "id": "864d3c4f-67f3-4695-8d59-7d5c71cc95d4",
   "metadata": {},
   "outputs": [],
   "source": []
  }
 ],
 "metadata": {
  "kernelspec": {
   "display_name": "Python 3 (ipykernel)",
   "language": "python",
   "name": "python3"
  },
  "language_info": {
   "codemirror_mode": {
    "name": "ipython",
    "version": 3
   },
   "file_extension": ".py",
   "mimetype": "text/x-python",
   "name": "python",
   "nbconvert_exporter": "python",
   "pygments_lexer": "ipython3",
   "version": "3.8.9"
  }
 },
 "nbformat": 4,
 "nbformat_minor": 5
}

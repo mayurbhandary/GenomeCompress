{
 "cells": [
  {
   "cell_type": "code",
   "execution_count": 12,
   "id": "69f718fd-059f-458b-9ab3-f5dd07f324b4",
   "metadata": {},
   "outputs": [
    {
     "data": {
      "text/plain": [
       "'gaagatgctcaggaaagtgactctctgaaaactcatttggaagatgaaagagataatagcgaaaagaagaagaatttggaagaagctgaattacattcaactgagaaagttccatgtattgaatttgatgatgatgattatgatacggattttgttccaccttctccagaagaaattatttctgcttcttcttcctcttcaaaatgccttagtacgttaaaggaccttgacacctctgacagaaaagaggatgttcttagcacatcaaaagatcttttgtcaaaacctgagaaaatgagtatgcaggagctgaatccagaaaccagcacagactgtgacgctagacagataagtttacagcagcagcttattcatgtgatggagcacatctgtaaattaattgatactattcctgatgataaactgaaacctttggattgtgggaacgaactgcttcagcagcggaacataagaaggaaacttctaacggaagtagattttaataaaagtgatgccagtcttcttggctcattgtggagatacaggcctgattcacttgatggccctatggagggtgattcctgccctacagggaattctatgaaggagttaaatttttcacaccttccctcaaattctgtttctcctggggactgtttactgactaccaccctaggaaagacaggattctctgccaccaggaagaatctttttgaaaggcctttattcaatacccatttacagaagtcctttgtaagtagcaactgggctgaaacaccaagactaggaaaaaaaaatgaaagctcttatttcccaggaaatgttctcacaagcactgctgtgaaagatcagaataaacatactgcttcaataaatgacttagaaagagaaacccaaccttcctatgatattgataattttgacatagatgactttgatgatgatgatgactgggaagacataatgcataatttagcagccagcaaatcttccacagctgcctatcaacccatcaaggaaggtcggccaattaaatcagtatcagaaagactttcctcagccaagacagactgtcttccagtgtcatctactgctcaaaatataaacttctcagagtcaattcagaattatactgacaagtcagcacaaaatttagcatccagaaatctgaaacatgagcgtttccaaagtcttagttttcctcatacaaaggaaatgatgaagatttttcataaaaaatttggcctgcataattttagaactaatcagctagaggcgatcaatgctgcactgcttggtgaagactgttttatcctgatgccgactggaggtggtaagagtttgtgttaccagctccctgcctgtgtttctcctggggtcactgttgtcatttctcccttgagatcacttatcgtagatcaagtccaaaagctgacttccttggatattccagctacatatctgacaggtgataagactgactcagaagctacaaatatttacctccagttatcaaaaaaagacccaatcataaaacttctatatgtcactccagaaaagatctgtgcaagtaacagactcatttctactctggagaatctctatgagaggaagctcttggcacgttttgttattgatgaagcacattgtgtcagtcagtggggacatgattttcgtcaagattacaaaagaatgaatatgcttcgccagaagtttccttctgttccggtgatggctcttacggccacagctaatcccagggtacagaaggacatcctgactcagctgaagattctcagacctcaggtgtttagcatgagctttaacagacataatctgaaatactatgtattaccgaaaaagcctaaaaaggtggcatttgattgcctagaatggatcagaaagcaccacccatatgattcagggataatttactgcctctccaggcgagaatgtgacaccatggctgacacgttacagaagtggattaatcaggatggctgtcaggttatctgtgctacaattgcatttggaatggggattgacaaaccggacgtgcgatttgtgattcatgcatctctccctaaatctgtggagggttactaccaagaatctggcagagctggaagagatggggaaatatctcactgcctgcttttctatacctatcatgatgtgaccagactgaaaagacttataatgatggaaaaagatggaaaccatcatacaagagaaactcacttcaataatttgtatagcatggtacattactgtgaaaatataacggaatgcaggagaatacagcttttggcctactttggtgaaaatggatttaatcctgatttttgtaagaaacacccagatgtttcttgtgataattgctgtaaaacaaaggattataaaacaagagatgtgactgacgatgtgaaaagtattgtaagatttgttcaagaacatagttcatcacaaggaatgagaaatataaaacatgtaggtccttctggaagatttactatgaatatgctggtcgacattttcttggggagtaagagtgcaaaaatccagtcaggtatatttggaaaaggatctgcttattcacgacacaatgccgaaagactttttaaaaagctgatacttgacaagattttggatgaagacttatatatcaatgccaatgaccaggcgatcgcttatgtgatggaaaattccagcagtgtgaaaaaacaaaaagcgttagtagcaaaagtgtctcagagggaagagatggttaaaaaatgtcttggagaacttacagaagtctgcaaatctctggggaaagtttttggtgtccattacttcaatatttttaataccgtcactctcaagaagcttgcagaatctttatcttctgatcctgaggttttgcttcaaattgatggtgttactgaagacaaactggaaaaatatggtgcggaagtgatttcagtattacagaaatactctgaatggacatcgccagctgaagacagttccccagggataagcctgtccagcagcagaggccccggaagaagtgccgctgaggagctcgacgaggaaatacccgtatcttcccactactttgcaagtaaaaccagaaatgaaaggaagaggaaaaagatgccagcctcccaaaggtctaagaggagaaaaactgcttccagtggttccaaggcaaagggggggtctgccacatgtagaaagatatcttccaaaacgaaatcctccagcatcattggatccagttcagcctcacatacttctcaagcgacatcaggagccaatagcaaattggggattatggctccaccgaagcctataaatagaccgtttcttaagccttcatatgcattctcataacaaccgaatctcaatgtacatagaccctctttcttgtttgtcagcatctgaccatctgtgactataa'"
      ]
     },
     "execution_count": 12,
     "metadata": {},
     "output_type": "execute_result"
    }
   ],
   "source": [
    "f = open(\"bloom-syndrome-protein.txt\", \"r\")\n",
    "lines = f.readlines()\n",
    "genome = ''.join(''.join(lines).split())"
   ]
  },
  {
   "cell_type": "code",
   "execution_count": null,
   "id": "8cdc4547-ef75-4279-b268-108aa353ac93",
   "metadata": {},
   "outputs": [],
   "source": []
  }
 ],
 "metadata": {
  "kernelspec": {
   "display_name": "Python 3 (ipykernel)",
   "language": "python",
   "name": "python3"
  },
  "language_info": {
   "codemirror_mode": {
    "name": "ipython",
    "version": 3
   },
   "file_extension": ".py",
   "mimetype": "text/x-python",
   "name": "python",
   "nbconvert_exporter": "python",
   "pygments_lexer": "ipython3",
   "version": "3.8.9"
  }
 },
 "nbformat": 4,
 "nbformat_minor": 5
}

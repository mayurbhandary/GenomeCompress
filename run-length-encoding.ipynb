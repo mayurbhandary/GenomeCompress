{
 "cells": [
  {
   "cell_type": "code",
   "execution_count": 12,
   "id": "69f718fd-059f-458b-9ab3-f5dd07f324b4",
   "metadata": {},
   "outputs": [
    {
     "data": {
      "text/plain": [
       "'gaagatgctcaggaaagtgactctctgaaaactcatttggaagatgaaagagataatagcgaaaagaagaagaatttggaagaagctgaattacattcaactgagaaagttccatgtattgaatttgatgatgatgattatgatacggattttgttccaccttctccagaagaaattatttctgcttcttcttcctcttcaaaatgccttagtacgttaaaggaccttgacacctctgacagaaaagaggatgttcttagcacatcaaaagatcttttgtcaaaacctgagaaaatgagtatgcaggagctgaatccagaaaccagcacagactgtgacgctagacagataagtttacagcagcagcttattcatgtgatggagcacatctgtaaattaattgatactattcctgatgataaactgaaacctttggattgtgggaacgaactgcttcagcagcggaacataagaaggaaacttctaacggaagtagattttaataaaagtgatgccagtcttcttggctcattgtggagatacaggcctgattcacttgatggccctatggagggtgattcctgccctacagggaattctatgaaggagttaaatttttcacaccttccctcaaattctgtttctcctggggactgtttactgactaccaccctaggaaagacaggattctctgccaccaggaagaatctttttgaaaggcctttattcaatacccatttacagaagtcctttgtaagtagcaactgggctgaaacaccaagactaggaaaaaaaaatgaaagctcttatttcccaggaaatgttctcacaagcactgctgtgaaagatcagaataaacatactgcttcaataaatgacttagaaagagaaacccaaccttcctatgatattgataattttgacatagatgactttgatgatgatgatgactgggaagacataatgcataatttagcagccagcaaatcttccacagctgcctatcaacccatcaaggaaggtcggccaattaaatcagtatcagaaagactttcctcagccaagacagactgtcttccagtgtcatctactgctcaaaatataaacttctcagagtcaattcagaattatactgacaagtcagcacaaaatttagcatccagaaatctgaaacatgagcgtttccaaagtcttagttttcctcatacaaaggaaatgatgaagatttttcataaaaaatttggcctgcataattttagaactaatcagctagaggcgatcaatgctgcactgcttggtgaagactgttttatcctgatgccgactggaggtggtaagagtttgtgttaccagctccctgcctgtgtttctcctggggtcactgttgtcatttctcccttgagatcacttatcgtagatcaagtccaaaagctgacttccttggatattccagctacatatctgacaggtgataagactgactcagaagctacaaatatttacctccagttatcaaaaaaagacccaatcataaaacttctatatgtcactccagaaaagatctgtgcaagtaacagactcatttctactctggagaatctctatgagaggaagctcttggcacgttttgttattgatgaagcacattgtgtcagtcagtggggacatgattttcgtcaagattacaaaagaatgaatatgcttcgccagaagtttccttctgttccggtgatggctcttacggccacagctaatcccagggtacagaaggacatcctgactcagctgaagattctcagacctcaggtgtttagcatgagctttaacagacataatctgaaatactatgtattaccgaaaaagcctaaaaaggtggcatttgattgcctagaatggatcagaaagcaccacccatatgattcagggataatttactgcctctccaggcgagaatgtgacaccatggctgacacgttacagaagtggattaatcaggatggctgtcaggttatctgtgctacaattgcatttggaatggggattgacaaaccggacgtgcgatttgtgattcatgcatctctccctaaatctgtggagggttactaccaagaatctggcagagctggaagagatggggaaatatctcactgcctgcttttctatacctatcatgatgtgaccagactgaaaagacttataatgatggaaaaagatggaaaccatcatacaagagaaactcacttcaataatttgtatagcatggtacattactgtgaaaatataacggaatgcaggagaatacagcttttggcctactttggtgaaaatggatttaatcctgatttttgtaagaaacacccagatgtttcttgtgataattgctgtaaaacaaaggattataaaacaagagatgtgactgacgatgtgaaaagtattgtaagatttgttcaagaacatagttcatcacaaggaatgagaaatataaaacatgtaggtccttctggaagatttactatgaatatgctggtcgacattttcttggggagtaagagtgcaaaaatccagtcaggtatatttggaaaaggatctgcttattcacgacacaatgccgaaagactttttaaaaagctgatacttgacaagattttggatgaagacttatatatcaatgccaatgaccaggcgatcgcttatgtgatggaaaattccagcagtgtgaaaaaacaaaaagcgttagtagcaaaagtgtctcagagggaagagatggttaaaaaatgtcttggagaacttacagaagtctgcaaatctctggggaaagtttttggtgtccattacttcaatatttttaataccgtcactctcaagaagcttgcagaatctttatcttctgatcctgaggttttgcttcaaattgatggtgttactgaagacaaactggaaaaatatggtgcggaagtgatttcagtattacagaaatactctgaatggacatcgccagctgaagacagttccccagggataagcctgtccagcagcagaggccccggaagaagtgccgctgaggagctcgacgaggaaatacccgtatcttcccactactttgcaagtaaaaccagaaatgaaaggaagaggaaaaagatgccagcctcccaaaggtctaagaggagaaaaactgcttccagtggttccaaggcaaagggggggtctgccacatgtagaaagatatcttccaaaacgaaatcctccagcatcattggatccagttcagcctcacatacttctcaagcgacatcaggagccaatagcaaattggggattatggctccaccgaagcctataaatagaccgtttcttaagccttcatatgcattctcataacaaccgaatctcaatgtacatagaccctctttcttgtttgtcagcatctgaccatctgtgactataa'"
      ]
     },
     "execution_count": 12,
     "metadata": {},
     "output_type": "execute_result"
    }
   ],
   "source": [
    "f = open(\"bloom-syndrome-protein.txt\", \"r\")\n",
    "lines = f.readlines()\n",
    "genome = ''.join(''.join(lines).split())\n",
    "genome"
   ]
  },
  {
   "cell_type": "code",
   "execution_count": 27,
   "id": "8cdc4547-ef75-4279-b268-108aa353ac93",
   "metadata": {},
   "outputs": [
    {
     "data": {
      "text/plain": [
       "3139"
      ]
     },
     "execution_count": 27,
     "metadata": {},
     "output_type": "execute_result"
    }
   ],
   "source": [
    "# Basic Run length encoding \n",
    "MAX_RUN = 4 #not being used currently\n",
    "genome_size = len(genome)\n",
    "compressed = \"\"\n",
    "i = 0\n",
    "while i < genome_size: \n",
    "    run_length = 1\n",
    "    k = i+1\n",
    "    while k < genome_size and genome[i]==genome[k]:\n",
    "        run_length += 1\n",
    "        k += 1\n",
    "   \n",
    "    compressed += genome[i] + str(run_length)*( 0 if run_length==1 else 1)\n",
    "    i = k   \n",
    "len(compressed)"
   ]
  },
  {
   "cell_type": "code",
   "execution_count": 29,
   "id": "db26c4e5-7d3d-4496-9d55-1eeb1d2c4937",
   "metadata": {},
   "outputs": [
    {
     "name": "stdout",
     "output_type": "stream",
     "text": [
      "1120 b'\\x1f\\x8b\\x08\\x00yI\\x81a\\x02\\xffU\\x97Q\\x96[1\\x08C\\xd7\\xca\\xe1\\x83\\r\\xb0\\xffSKW\\xbct\\xdat\\x9a8~6HB0S5\\xb5\\xd3\\xdb5S\\xef\\xc3N\\xbd\\x0f\\xef\\xaf>\\xe9m\\xed\\xae\\xbe\\xd26m\\xd0\\x9bz\\xafi\\xef\\x98{}\\xdb\\xde7\\xeb\\xcf\\xa5g[\\x87\\xe8!\\x9d\\xbd\\xfd\\x96f\\xdfr\\x1e\\xa8\\xdfk\\xfd\\xb3z\\xf4\\xfe}\\xe5\\xcd\\xdd\\xab`:wx\\x97V\\xc6\\xeb~\\xb5\\x7f*\\x94\\xb7\\xfa\\xde\\xbek\\xde!\\xef\\xffRFZy?\\xabI\\xc9\\x079\\t]\\xea\\x03^\\xb8\\n\\xb4Y\\xd7\\x8a.\\xf7\\xc7\\xbe\\xc8\\x15\\x9a\\xc2\\x1e\\xa3\\x94\\xfc\\x88\\xaa\\xf4_\\xfb\\xe0\\xb7\\xac+\\xde\\xd7\\xc5M\\xeb\\x9c\\x85\\xc3\\xe4\\xe5\\xf8\\x8d\\x81\\xee\\x9f\\xbb[\\x9889#\\xf3\\x1e\\xf0\\xb6\\x0e2\\x05\\x84\\x8e\\xc7 +\\xc0\\x11\\xd8\\xa2 `p\\xbe\\x17}o\\xc1\\xa7A*\\xa3\\xaa\\x0c\\xc0\\xb6|f\\x11\\x84\\xe2\\x0f\\x963\\xf0=\\x0e\\xad\\x1c\\xf8\\x10\\xc6[o\\xf8z\\x0b\\nO;f\\xf8J!hQ\\xdbM\\xac78\\x02\\x88\\xd0\\xa5:\\x01>\\xc5E\\xb1m\\x16~\\x95\\x0e\\x00\\n.k\\xb0L\\xbf\\xb0Dv\\x86~\\x91\\xa6\\xbf\\xaa\\xc8\\r\\xca\\x10\\xa7\\x15\\x00\\xc6\\n\\xbf\\xad^X\\x9f\\x05\\xbe\\x05\\x08t9\\x13du\\x9e)\\xe4:\\xfep\\xa6\\x05f\\xd9\\xe5\\xce(G\\xf9\\x98@\\x110)\\x8e\\xf5]\\xa6\\xcc<\\xc2\\x8d\\x17\\x9c\\xd5\\xd6\\x15Q9\\xbc \\x12\\xf1\\xc3>\\xfa\\xf7\\x01\\x93\\xa7\\xfeT\\xca\\x109\\xa0\\xacu\\x9f\\xa7\\x10\\x81\\xb5\\x00.me\\x1a\\xb1\\xb5\\xc6\\rI#\\x8eG_\\x0b1\\x94\\xe7\\xd07\\t\\x14\\xb7\\x9a\\xa9\\t4Q8\\xa7\\x8ekDD7\\xee\\xa1\\x03\"Uc#\\xea}2\\x80l\\x85W\\x13\\x81\\xee\\xeb\\x8b\\xf9ji\\x8f\\r\\xd5[[\\x1cm\\xa1R\\xd7\\x17\\xd1\\xfa\\xe1P\\x81\\xd2Nb\\x1b\\xe6,\\xe6\\xfe!c\\xdcU\\t\\xbe|\\xed\\x00m\\xba\\xec~G\\xe3Z\\xd2uR\\x14\\x1c\\x9d*\\x01u\\x816\\xd6\\x90\\xe3\\x11\\x0c\\x8b\\x05X\\xd7\\xbe\\xf3\\xaf\\xaa]9\\x83\\xa7d\\xdd\\x95\\xe4\\xcb\\xad\\xac\\xa60\\x81\\x06\\x1f\\xa2\\x04\\xac\\xd8A\\x18\\xdca\\xc2\\xcf\\xc9\\x06\\xb5L\\n\\xa6\\xe3\\xbd\\x06g\\x11>\\xde\\xb9\\x1b\\x7f\\x83X3\\x1e\\xa8\\xf0\\x07\\xc9\\xcf\\xd1\\xf4g\\x90.\\xceqL\\x15\\xee\\x13\\xbf\\xfb\\x83\\r\\xa2\\\\\\x8d&\\x0bAu\\\\\\xc4\\x06l\\x0f\\xaf=\\x86\\xect\\x8bn\\xf8G\\xcdc\\xfe+\\x14\\x1a\"+^\\xec\\xe7\\xec\\xba\\xfa6M\\x00\\r`\\x1d\\x8f\\x94\\x18)5\\x8a\\x9a\\x01\\xaaR\\xaes\\xe5\\xef\\xab\\xfa\\x83\\xaaO6\\x00\\x87\\xd2\\xa1\\xce\\x8a\\xb4\\xcd\\xef\\xe5n\\x15!N\\xdc\\xd9M\\xac\\x9a\\x1eX./\\xbf\\x19\\xa7O\\xc1Ru\\xcec\\xbe\\xba\\xea\\xf8ZQ\\xf2\\x8bg\\xa6|\\x11\\x104H\\x9e~6\\xfd\\x8b4\\xfd~~\\x9efOD\\xd5\\x01bHd\\x8fA\\xc3\\xb9;_#\\x07w\\x1cF\\x86 d\\xb4\\xd14\\xc4\\xd1\\xf1\\x94\\x8eZS\\x99\\xe7\\xf9\\x1bw\\x8e\\x02\\x940Mq2\\x1e\\xf8\\x82B\\xa9\\x9d\\xa4\\x8c&Z\\x8b\\x17\\x999E\\x11g\\xa9\\xb3\\x1d<\\xcd\\xa8E\\x8b\\x93F{\\xb5\\x1f\\xff\\xa4\\x80\\xb0W\\xac=\\xdc\\r\\xb3G\\x9d/cMM\\xf6\\xf4\\xf0\\xa2\\xbd\\xd1\\xeeM\\x14\\xcd5\\xfb\\x99B\\xea\\xea\\x7f\\xafs\\xa4W\\xb8\\xbbS\\xe6;g\\xda\\x93>~\\xeeD&u\\x01\\x93\\xac\\'\\x84\\xba\\xb8\\x98\\x856\\x066K\\t`\\xfd\\xa6\\x81&C-\\xcc\\xe7\\xb1\\xc5\\x185s\\xb5p\\x16X\\xe9\\xbcT\\x8d\\r\\xdeH\\xa4\\xbd\\xbb!\\xe3]\\x83!\\xe0\\x0fV\\x0c\\x9e\\x01\\xe8\\x83\\x01\\xdc\\xbc\\xe2S\\xb0\\xca\\xfeu\\x87\\x8d\\xe6;3K\\xec\\x9d\\xf6u\\xbe\\x0c\\x9f{N\\xdb\\xf4\\xc1>\\xfb\\xe5\\x8a\\xf9\\xd1\\x1d\\xa7s\\x83I\\'\\xee\\\\3\\x0cwDn#\\xa1\\xcf\\xfc\\xa7\\xbb=\\xff\\x1f\\x12\\xc6\\xf5\\x7f\\x13\\xc0^g\\xec\\x13\\xe9\\xc0\\xad\\x8f\\x8bfP\\xd4\\xde\\xa4\\xd4\\x1do\\x0c9n\\x13\\xfdM\\x1e\\xf4Y%\\xc0\\xb8\\x88\\xf3e&\\xcd\\xc8D\\x97\\x08 \\x8cs\\xe4\\xb6|\\x9b\\xf1\\xcc\\xd0\\xd1\\x85\\x13r\\xc5mQdW|\\xf0;\\xca&\\xd8\\x9f\\x87\\xd0~\\xfa\\x9b7=\\x10u\\xdf\\\\n\\xfa\\x08\\xd2^m)\\xa6T\\xb5-\\xb9\\xc8\\xa0R\\x0e\\xf1\\x7f\\xa6\\xdco\"\\x9aL\\xd0W\\x9d\\xbe\\xd0V\\x81\\x05\\xf6f\\x03[2\\x05a\\xf9\\xb4\\xf4\\x19\\xb6\\x0e\\x1d\\x92\\x89\\x0eMs\\xe6M/\\xc5\\x90kp\\xc9\\x8b\\tu\\xa2\\xdc\\xcd\\xd5\\x19\\xb7B\\x12\\xaa\\xcf\\xb0\\xde\\xfc\\xb6\\x02\\x1b\\x93\\xbat\\xcbh\\x0c\\x9c\\xe1\\xc8(\\x8c\\xd9\\xe6\\xf7\\x02\\xaf/F\\xddi\\x14\\xee\\x07<\\xc5U\\x8b\\xd5\\xd0V\\xad\\x07;\\x02\\xed\\x1e\\x0f\\x1d\\x9c+\\xe5\\xaf#\\xfe\\x01|B\\'\\xb7u\\r\\x00\\x00'\n"
     ]
    }
   ],
   "source": [
    "# Gzip compression\n",
    "import gzip\n",
    "compressed_gzip = gzip.compress(bytes(genome, 'utf-8'))\n",
    "print (len(compressed_gzip), compressed_gzip)"
   ]
  },
  {
   "cell_type": "code",
   "execution_count": 30,
   "id": "864d3c4f-67f3-4695-8d59-7d5c71cc95d4",
   "metadata": {},
   "outputs": [
    {
     "name": "stdout",
     "output_type": "stream",
     "text": [
      "1020 b'BZh91AY&SY\\xa1\\x9b\\x07\\xcf\\x00\\x03\\xbe\\xc1\\x80z\\x00(\\x80\\x04\\x00`\\x07\\xdd\\xf0\\xbcz\\xe77U\\xbb\\xba\\xd3\\xbai\\xb8\\xcbn\\xdd\\xb5\\xdd\\xda\\xed\\x9c\\x10d\\xc4\\rO\\xc5*\\x8c\\r<T\\x94\\x02T\\xfc\\x92\\x956\\xa1\\x06L@\\x94\\xf2RJ7\\xf1\\xf9\\x1f\\xd4\\x9f\\x82DE\\x17\\xc3\\xa8TD\\xcf\\x88\\x159\\x13\\xa7\\x83\\xbb\\xa0\\xc6\\x99\\xe4J!E\\x07\\xed\\xb3\\x15\\xd2\\x12U<\\x13S\\xc9\\xf3\\xd9\\xb6\\xd3T\\x8bt|&\\x940\\xad\\x865Tk3T\\xf3\\xa2\\xd1\\xbb1;\\xb1\\x195\\x1a\\xb1Y\\x04\\x8aY&-\\x11\\x87\\xce\\xae\\xb8]\\xf3\\xeb\\xe8\\xe1\\xd8\\xad\\xb3\\x11P\\x8b\\xa4\\x92\\xe7\\x82G\\n\\xc4\\xa6\\xb1\\xc9Y\\xd0\\xd8\\x16\\x025\\xda\\xccN\\x13\\x1a1T\\xd7\\x17\\xcf\\xb1\\xe5\\xc3\\xe6\\xa1W6e\\xb3\\x01h\\x9c\\xbc\\xeb%\\xa6\\x8c\\xf4\\xf5\\x8b\\x13\\x90X\\x05,\\x11s\\xc7\\xad\\xcc\\x85g\\x0e4\\xb8\\xb0\\x81\\xad\\xea\\xb0q\\xc1\\xceS\\xd5tdr\\x99D\\xe1sd\\x87\\x16\\xa2n\\xd0ddGn\\xdd\\x90Ts\\x913fz\\x88\\xaajvv\\xd0\\xc80\\xb3SS+\\xcep\\xf6,\\x8cwK\\xdc\\xb4 \\xa4\\x90I\\xb4\\x9bI\\xa5\\xd8\\xb48\\x19\\x872Q\\xd2\\x83h\\x82\\x11\\xc3\\x19\\xd5\\x94\\x9cH\\x89\\xa8\\xe2\\x12r\\xf5\\\\\\xc8\\x9eZs@a\\x00\\xf3\\x9c\\x80\\xdat\\xf6&dV\\xc1\\x87<\\x8a\\xa4i\\xadZ\\n3V\\x00\\x92\\xd4sv\\xe8\\xcf\\x84\\x86\\xe1\\r\\x1cL\\x02\\xd8lJ\\xb8\\xb8\\x15\\xd2\\xebD\\xb3\\xaf\\xca\\xbd\\xf6\\xf8\\xd1\\xc2\\xda\\xc9{v\\x84w\\x16\\x0c\\xa3$\\xda/\\xdb\\xc7\\xa2|\\xd0\\xf2:\\xdbt!\\xb1\\x15\\xd4\\x15\\x9c\\xb8\\xd6\\xb3d\\x8a\\xac\\xe4Y\\x8c0\\xdaB\\xd6\\x14M\\x90\\r\\x1a\\xbc=\\xec\\xe7w\\x95V\\xce\\x9c\\xc3%_]\\'Y\\x9d\\x05k\\x00\\xc4\\xc7\\x93Y\\xd1\\xee;\\xb9o-k5\\x90\\x8d\\xd1s\\n\\x8f:\\xa9\\xa4dF\\xce\\x9c`\\xcdi\\xb9l<q\\xee\\x02\\\\m\\xdeq4\\xb6\\xeeqv\\x98\\xc1fh\"\\x14\\xe2\\xf7e7f\\xf4\\xc6\\x1cb\\x87\\xbb\\x0eb:\\xc0\\xb8}Z\\xcd\\xba\\xbb\\x93\\x11\\xc1J\\n\\x96\\x81\\xa5\\x07\\x91\\x1ez\\x85I\\xc3P\\xd8\\x93\\'\\xd5\\x9e\\xc4\\xa3\\x8cM\\x89\\xc1\\x98UVooBC\\xb1$;?\\'r<\\xec;d\\xec\\xe0\\xb92\\x16\\xa1\\xf6\\xc4Zr)\\xa2\\x08\\x11\\x1cg*\\x9fvtraU\\x93\\xed\\xeb\\x89\\x10\\xa9;d4B\\xf8\\xbd\\xa0\\xee;L\\xd4\\xa9\\xc8^_v\\xe1\\xef\\x7f}\\xde\\xf7\\xb2G\\x00\\x12\\xf1\\xf2\\x80y\\xce{\\xcd/92\\x92^\\xbb\\xdd\\x88\\x98\\xa2\\x99\\xe6\\xaf9v\\xbcz\\xf7Ow\\xe4\\x92{i\\xfa\\xb2\\xad\\xc5IZ\\'2\\xcd\\xc8\\x9d1GB\\x88\\xbc\\xcc0\\x9bS\\x95\\xefW\\x94a\\x91\\x91\\xf5:\\xf4\\xf3\\x1cB\\x8a\\x0f\\xdd\\xf7\\xdf\\t\\xf3\\xce\\xfa\\xf1*\\xf7\\x82$T\\xf7m\\xdd\\xb3Bp\\xb6\\xd3\\x99|\\xf9\\xf3\\x8b\\xbcbD\\xf5tV\\xa4\\x1e\\xf2<\\t\\x03\\xc0\\x836\\x0cc\\xd5\\xf7\\x85%\\x00\"\\xb0\\x0b\\xe7\\x9d1\\xad\\xf6\\xadR\\x8a)\\xd3\\xea\\x15\\xf4\\x8a\\x13<\\x92\\xe2{oeQ\\x1ek\\x07E\\rwZ\\x9dl\\x1b\\x97&C\\xa6\\xed\\xdapjv\\x01i\\x1aN^e\\xd4\\x0f\\x06\\xe5\\x96\\xc8ce\\xd0\\xe1Er]\\xa9*\\x12-\\x16\\x14\\xc1l\\xebV\\x8cw\\x04\\x1cuM5\\x82o\\x05\\x1c\\xdf5\\xecsL\\xae2R\\xa9\\x98\\xb5\\xb1\\x98J\\xcf\\xf7<\\xe4_r,\\xe34S\\x9b\\x16\\x97\\x16\\x8a}.\\x1d\\xa5\\xfa.\\xbbFe\\x1fJ(\\xc6\\x84\\xacf\\x990\\xca\\xe7\\xb0\\xf6*\\x91\\x12\\xdf\\xbd\\xef\\x14\\xbc\\\\\\x9eu\\x92\\x07OI\\x8dlr\\xff7Jv;\\xdcK\\xce\\x89Q\"Q2G\\xf5\\xc7OK2Bl\\xceGE\\xa1\\x92V\\xe4\\xc8\\xe3\\x06\\xabo\\\\\\xfb\\xbc\\xf6N\\\\\\x8a\\x025\\x86\\x88\\xe3\\xae\\xb1\\xb3y[L\\xb6}c\\x1b\\xcb\\xe6\\xc5C\\xfb\\xac\\xc2<\\x8c+\\xe7\\x15\\x84\\xca\\xd1\\xdb\\xb5\\xa1\\xa4\\xe1\\x99\\x1aCZ\\xcf\\x11\\x00\\x85i4F\\x17!\\xc2\\xd5f\\x93\\xefZ<\\xa0\\x96^\\x19\\xd4\\xbb\\xaaJ\\xdb\\xa3\\x17=\\x15\\x15\\xd0EJU]\\xb5\\xb9\\'\\x8e\\x18\\xc8\\xa7\\xaci\\xa8E\"\\x14\\x1f\\x92\\xca\\xf22LT\\xf3_\\xc2\\xeeH\\xa7\\n\\x12\\x143`\\xf9\\xe0'\n"
     ]
    }
   ],
   "source": [
    "# Bzip2 compression\n",
    "import bz2\n",
    "compressed_gzip = bz2.compress(genome)\n",
    "print (len(compressed_gzip), compressed_gzip)"
   ]
  }
 ],
 "metadata": {
  "interpreter": {
   "hash": "879307c2bc1d4bdd62e583023e3ec92ba3b6096dba47ac80cfb515b05e9be198"
  },
  "kernelspec": {
   "display_name": "Python 3.8.11 64-bit ('Module0': conda)",
   "name": "python3"
  },
  "language_info": {
   "codemirror_mode": {
    "name": "ipython",
    "version": 3
   },
   "file_extension": ".py",
   "mimetype": "text/x-python",
   "name": "python",
   "nbconvert_exporter": "python",
   "pygments_lexer": "ipython3",
   "version": "3.8.11"
  }
 },
 "nbformat": 4,
 "nbformat_minor": 5
}

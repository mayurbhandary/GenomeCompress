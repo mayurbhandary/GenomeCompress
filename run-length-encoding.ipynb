{
 "cells": [
  {
   "cell_type": "code",
   "execution_count": 85,
   "id": "69f718fd-059f-458b-9ab3-f5dd07f324b4",
   "metadata": {},
   "outputs": [
    {
     "data": {
      "text/plain": [
       "29903"
      ]
     },
     "execution_count": 85,
     "metadata": {},
     "output_type": "execute_result"
    }
   ],
   "source": [
    "f = open(\"covid-sequence.txt\", \"r\")\n",
    "lines = f.readlines()\n",
    "genome = ''.join(''.join(lines).split())\n",
    "len(genome)"
   ]
  },
  {
   "cell_type": "code",
   "execution_count": 86,
   "id": "8cdc4547-ef75-4279-b268-108aa353ac93",
   "metadata": {},
   "outputs": [
    {
     "data": {
      "text/plain": [
       "27727"
      ]
     },
     "execution_count": 86,
     "metadata": {},
     "output_type": "execute_result"
    }
   ],
   "source": [
    "max_run = 0\n",
    "genome_size = len(genome)\n",
    "compressed_rle = \"\"\n",
    "i = 0\n",
    "while i < genome_size: \n",
    "    run_length = 1\n",
    "    k = i+1\n",
    "    while k < genome_size:\n",
    "        if genome[i]==genome[k]:\n",
    "            run_length += 1\n",
    "            k += 1\n",
    "        else:\n",
    "            break\n",
    "            \n",
    "    if run_length>max_run:\n",
    "        max_run = run_length\n",
    "        \n",
    "    if run_length == 1:\n",
    "        compressed_rle += genome[i]\n",
    "    else:\n",
    "        compressed_rle += str(run_length) + genome[i]\n",
    "    i = k       \n",
    "len(compressed_rle)"
   ]
  },
  {
   "cell_type": "code",
   "execution_count": 87,
   "id": "864d3c4f-67f3-4695-8d59-7d5c71cc95d4",
   "metadata": {},
   "outputs": [
    {
     "data": {
      "text/plain": [
       "{'A': 0.21907235086200677,\n",
       " 'T': 0.2300728558032172,\n",
       " 'G': 0.17204068383466783,\n",
       " 'C': 0.16605352376830412,\n",
       " '2': 0.1562071701651879,\n",
       " '3': 0.03996249008151194,\n",
       " '4': 0.012515328572459064,\n",
       " '5': 0.003823126307437063,\n",
       " '6': 0.00018033614657721994,\n",
       " '7': 0.0,\n",
       " '8': 3.6067229315443986e-05,\n",
       " '9': 0.0,\n",
       " '10': 0.0,\n",
       " '11': 0.0,\n",
       " '12': 0.0,\n",
       " '13': 0.0,\n",
       " '14': 0.0,\n",
       " '15': 0.0,\n",
       " '16': 0.0,\n",
       " '17': 0.0,\n",
       " '18': 0.0,\n",
       " '19': 0.0,\n",
       " '20': 0.0,\n",
       " '21': 0.0,\n",
       " '22': 0.0,\n",
       " '23': 0.0,\n",
       " '24': 0.0,\n",
       " '25': 0.0,\n",
       " '26': 0.0,\n",
       " '27': 0.0,\n",
       " '28': 0.0,\n",
       " '29': 0.0,\n",
       " '30': 0.0,\n",
       " '31': 0.0,\n",
       " '32': 0.0,\n",
       " '33': 3.6067229315443986e-05}"
      ]
     },
     "execution_count": 87,
     "metadata": {},
     "output_type": "execute_result"
    }
   ],
   "source": [
    "import re\n",
    "bases = {\n",
    "    'A': 0,\n",
    "    'T': 0,\n",
    "    'G': 0,\n",
    "    'C': 0,\n",
    "}\n",
    "runs = {str(v):0 for v in range(2,max_run+1)}\n",
    "corpus = {**bases, **runs}\n",
    "\n",
    "compressed_rle = re.findall('[0-9]+|[ATGC]',compressed_rle)\n",
    "\n",
    "for s in compressed_rle:\n",
    "    corpus[s] += 1\n",
    "\n",
    "\n",
    "# Contains frequency of each symbol \n",
    "corpus_freq = {key:corpus[key]/len(compressed_rle) for key in corpus.keys()}\n",
    "corpus_freq"
   ]
  },
  {
   "cell_type": "markdown",
   "metadata": {},
   "source": [
    "### This creates the binary tree used to generate the huffman coding"
   ]
  },
  {
   "cell_type": "code",
   "execution_count": 88,
   "id": "7e8b38b5-1839-404d-a0b2-5afafabd7a99",
   "metadata": {},
   "outputs": [],
   "source": [
    "class Node: \n",
    "    def __init__(self, symbol, probability): \n",
    "        self.left = None\n",
    "        self.right = None\n",
    "        self.s = symbol\n",
    "        self.p = probability\n",
    "\n",
    "    def is_leaf(self):\n",
    "        if self.left is None and self.right is None:\n",
    "            return True\n",
    "        else:\n",
    "            return False\n",
    "\n",
    "nodes = [Node(sym,prob) for sym,prob in corpus_freq.items()]\n",
    "\n",
    "\n",
    "#print([(node.s, node.p) for node in nodes])\n",
    "s1, s2 = sorted(nodes, key = lambda node: node.p)[0:2]\n",
    "#print(s1.s,s1.p)\n",
    "#print(s2.s,s2.p)\n",
    "while len(nodes) > 1: \n",
    "    nodes_sorted = sorted(nodes, key = lambda node: node.p)\n",
    "    s1, s2 = nodes_sorted[0:2]\n",
    "    nodes = nodes_sorted[2:]\n",
    "\n",
    "    combined_sym = s1.s+'-'+s2.s \n",
    "    combined_node = Node(combined_sym, s1.p+s2.p)\n",
    "    combined_node.left = s1\n",
    "    combined_node.right = s2\n",
    "    nodes.append(combined_node)\n"
   ]
  },
  {
   "cell_type": "code",
   "execution_count": 89,
   "metadata": {},
   "outputs": [
    {
     "name": "stdout",
     "output_type": "stream",
     "text": [
      "{'33': '11111111', '26': '1111111011111', '27': '1111111011110', '28': '1111111011101', '29': '1111111011100', '30': '1111111011011', '31': '1111111011010', '32': '1111111011001', '7': '11111110110001', '9': '11111110110000', '10': '11111110101111', '11': '11111110101110', '12': '11111110101101', '13': '11111110101100', '14': '11111110101011', '15': '11111110101010', '16': '11111110101001', '17': '11111110101000', '18': '11111110100111', '19': '11111110100110', '20': '11111110100101', '21': '11111110100100', '22': '11111110100011', '23': '11111110100010', '24': '11111110100001', '25': '11111110100000', '8': '111111100', '6': '1111110', '5': '111110', '4': '11110', '3': '1110', '2': '110', 'A': '10', 'T': '01', 'C': '001', 'G': '000'}\n"
     ]
    }
   ],
   "source": [
    "# Traverses tree to assign bit strings to leaf nodes\n",
    "def generate_bits(symbol_to_bits, n, bits = ''):\n",
    "    if n.is_leaf():\n",
    "        symbol_to_bits[n.s] = bits\n",
    "        return\n",
    "\n",
    "    generate_bits(symbol_to_bits, n.left, bits = bits + '1')\n",
    "    generate_bits(symbol_to_bits, n.right, bits = bits + '0')\n",
    "\n",
    "symbol_bits  = {}    \n",
    "generate_bits(symbol_bits, nodes[0])\n",
    "print(symbol_bits)"
   ]
  },
  {
   "cell_type": "code",
   "execution_count": 93,
   "metadata": {},
   "outputs": [
    {
     "name": "stdout",
     "output_type": "stream",
     "text": [
      "bpc= 2.437079891649667\n"
     ]
    }
   ],
   "source": [
    "compressed_full = \"\".join([symbol_bits[sym] for sym in compressed_rle])\n",
    "print(\"bpc=\",len(compressed_full)/len(genome))\n"
   ]
  },
  {
   "cell_type": "code",
   "execution_count": null,
   "metadata": {},
   "outputs": [],
   "source": []
  },
  {
   "cell_type": "code",
   "execution_count": null,
   "metadata": {},
   "outputs": [],
   "source": []
  }
 ],
 "metadata": {
  "interpreter": {
   "hash": "31f2aee4e71d21fbe5cf8b01ff0e069b9275f58929596ceb00d14d90e3e16cd6"
  },
  "kernelspec": {
   "display_name": "Python 3.8.9 64-bit",
   "name": "python3"
  },
  "language_info": {
   "codemirror_mode": {
    "name": "ipython",
    "version": 3
   },
   "file_extension": ".py",
   "mimetype": "text/x-python",
   "name": "python",
   "nbconvert_exporter": "python",
   "pygments_lexer": "ipython3",
   "version": "3.8.9"
  }
 },
 "nbformat": 4,
 "nbformat_minor": 5
}

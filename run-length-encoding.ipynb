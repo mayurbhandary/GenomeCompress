{
 "cells": [
  {
   "cell_type": "code",
   "execution_count": 112,
   "id": "69f718fd-059f-458b-9ab3-f5dd07f324b4",
   "metadata": {},
   "outputs": [],
   "source": [
    "from sys import getsizeof\n",
    "\n",
    "dataset_name = \"covid-sequence.txt\"\n",
    "\n",
    "f = open(dataset_name, \"r\")\n",
    "lines = f.readlines()\n",
    "genome = ''.join(''.join(lines).split())\n",
    "genome\n",
    "\n",
    "def write_to_file(filename, str_compress, bytefile=False):\n",
    "    if bytefile:\n",
    "        file1 = open(filename,\"wb\")\n",
    "    else:\n",
    "        file1 = open(filename,\"w\")\n",
    "    file1.write(str_compress)\n",
    "    file1.close()\n",
    "\n",
    "def compare_file(filename1, filename2):\n",
    "    import os\n",
    "    size_a = os.path.getsize(filename1)\n",
    "    size_b = os.path.getsize(filename2)\n",
    "    print(\"Size of fileA: \", size_a)\n",
    "    print(\"Size of fileB: \", size_b)"
   ]
  },
  {
   "cell_type": "code",
   "execution_count": 113,
   "id": "8cdc4547-ef75-4279-b268-108aa353ac93",
   "metadata": {},
   "outputs": [
    {
     "name": "stdout",
     "output_type": "stream",
     "text": [
      "Size of fileA:  27727\n",
      "Size of fileB:  30330\n"
     ]
    }
   ],
   "source": [
    "# Basic Run length encoding \n",
    "MAX_RUN = 4 #not being used currently\n",
    "genome_size = len(genome)\n",
    "\n",
    "def run_length_coding(sequence):\n",
    "    compressed = \"\"\n",
    "    size = len(sequence)\n",
    "    i = 0\n",
    "    while i < size: \n",
    "        run_length = 1\n",
    "        k = i+1\n",
    "        while k < size and sequence[i]==sequence[k]:\n",
    "            run_length += 1\n",
    "            k += 1\n",
    "    \n",
    "        compressed += sequence[i] + str(run_length)*( 0 if run_length==1 else 1)\n",
    "        i = k   \n",
    "    return compressed\n",
    "\n",
    "result = run_length_coding(genome)\n",
    "filename = \"algo-1.txt\"\n",
    "write_to_file(filename,result)\n",
    "compare_file(filename, dataset_name)"
   ]
  },
  {
   "cell_type": "code",
   "execution_count": 114,
   "id": "db26c4e5-7d3d-4496-9d55-1eeb1d2c4937",
   "metadata": {},
   "outputs": [
    {
     "name": "stdout",
     "output_type": "stream",
     "text": [
      "Size of fileA:  8953\n",
      "Size of fileB:  30330\n"
     ]
    }
   ],
   "source": [
    "# Gzip compression\n",
    "import gzip\n",
    "compressed_gzip = gzip.compress(bytes(genome, 'utf-8'))\n",
    "\n",
    "# print (compressed_gzip)\n",
    "# a = getsizeof(compressed_gzip)\n",
    "# b = getsizeof(genome)\n",
    "# c = getsizeof( bytes('1067789', 'utf-8') )\n",
    "# print (a,b, c)\n",
    "filename = \"algo-gzip.bin\"\n",
    "write_to_file(filename, compressed_gzip, True)\n",
    "compare_file(filename, dataset_name)"
   ]
  },
  {
   "cell_type": "code",
   "execution_count": 115,
   "id": "864d3c4f-67f3-4695-8d59-7d5c71cc95d4",
   "metadata": {},
   "outputs": [
    {
     "name": "stdout",
     "output_type": "stream",
     "text": [
      "8158\n",
      "Size of fileA:  8158\n",
      "Size of fileB:  30330\n"
     ]
    }
   ],
   "source": [
    "# Bzip2 compression\n",
    "import bz2\n",
    "compressed_bzip = bz2.compress(bytes(genome, 'utf-8'))\n",
    "print (len(compressed_bzip))\n",
    "filename = \"algo-bzip.bin\"\n",
    "write_to_file(filename, compressed_bzip, True)\n",
    "compare_file(filename, dataset_name)"
   ]
  },
  {
   "cell_type": "code",
   "execution_count": 119,
   "id": "357570c4",
   "metadata": {},
   "outputs": [
    {
     "name": "stdout",
     "output_type": "stream",
     "text": [
      "['0', '1', '0', '0', '1', '1', '0', '0', '0', '0', '0', '0', '0', '1', '0', '0'] GAGTAACTCGTCTATC\n",
      "['0', '0', '0', '0', '0', '0', '1', '0', '1', '0', '0', '1', '0', '0', '0', '1']\n"
     ]
    }
   ],
   "source": [
    "# Split encoding\n",
    "a_rle = []\n",
    "g_rle = []\n",
    "c_rle = []\n",
    "t_rle = []\n",
    "for i in range(genome_size):\n",
    "    if genome[i] == 'a':\n",
    "        a_rle.append('1')\n",
    "    else:\n",
    "        a_rle.append('0')\n",
    "\n",
    "    if genome[i] == 'g':\n",
    "        g_rle.append('1')\n",
    "    else:\n",
    "        g_rle.append('0')\n",
    "\n",
    "    if genome[i] == 'c':\n",
    "        c_rle.append('1')\n",
    "    else:\n",
    "        c_rle.append('0')\n",
    "\n",
    "    if genome[i] == 't':\n",
    "        t_rle.append('1')\n",
    "    else:\n",
    "        t_rle.append('0')\n",
    "print (a_rle[164:180], genome[130:180])\n",
    "print (c_rle[164:180])"
   ]
  },
  {
   "cell_type": "code",
   "execution_count": 121,
   "id": "12177568",
   "metadata": {},
   "outputs": [
    {
     "name": "stdout",
     "output_type": "stream",
     "text": [
      "[1, 1, 2, 3, 5, 1, 1, 1, 7, 1]\n",
      "['1', '0', '0', '1', '1', '1', '0', '0', '0', '0', '0', '1', '0', '1', '0', '0', '0', '0', '0', '0']\n"
     ]
    }
   ],
   "source": [
    "def split_encoding(sequence):\n",
    "    sequence = ['0'] + sequence if sequence[0]=='1' else sequence #start every sequence with 0\n",
    "    compressed = []\n",
    "    size = len(sequence)\n",
    "    i = 0\n",
    "    while i < size: \n",
    "        run_length = 1\n",
    "        k = i+1\n",
    "        while k < size and sequence[i]==sequence[k]:\n",
    "            run_length += 1\n",
    "            k += 1\n",
    "        compressed += [run_length]\n",
    "        i = k\n",
    "    # new_compress = ''\n",
    "    # print (compressed[164:189], compressed[189])\n",
    "    # for i in range(len(compressed)):\n",
    "    #     if i%2==1:\n",
    "    #         new_compress += compressed[i] + f\"-{i} : \"\n",
    "    return compressed\n",
    "\n",
    "a_bin = split_encoding(a_rle)\n",
    "g_bin = split_encoding(g_rle)\n",
    "c_bin = split_encoding(c_rle)\n",
    "t_bin = split_encoding(t_rle)\n",
    "\n",
    "print (a_bin[0:10])\n",
    "print (a_rle[0:20])\n",
    "# print (split_encoding(g_rle))"
   ]
  },
  {
   "cell_type": "code",
   "execution_count": 128,
   "metadata": {},
   "outputs": [],
   "source": []
  },
  {
   "cell_type": "code",
   "execution_count": 129,
   "metadata": {},
   "outputs": [],
   "source": []
  },
  {
   "cell_type": "code",
   "execution_count": 134,
   "metadata": {},
   "outputs": [],
   "source": [
    "# Traverses tree to assign bit strings to leaf nodes\n",
    "def generate_bits(symbol_to_bits, n, bits = ''):\n",
    "    if n.is_leaf():\n",
    "        symbol_to_bits[n.s] = bits\n",
    "        return\n",
    "\n",
    "    generate_bits(symbol_to_bits, n.left, bits = bits + '1')\n",
    "    generate_bits(symbol_to_bits, n.right, bits = bits + '0')\n",
    "\n",
    "a_symbol_bits = {}\n",
    "generate_bits(a_symbol_bits, a_root_node)\n",
    "t_symbol_bits = {}\n",
    "generate_bits(t_symbol_bits, t_root_node)\n",
    "g_symbol_bits = {}\n",
    "generate_bits(g_symbol_bits, g_root_node)\n",
    "c_symbol_bits = {}\n",
    "generate_bits(c_symbol_bits, c_root_node)"
   ]
  },
  {
   "cell_type": "code",
   "execution_count": 139,
   "metadata": {},
   "outputs": [
    {
     "name": "stdout",
     "output_type": "stream",
     "text": [
      "108248\n"
     ]
    }
   ],
   "source": [
    "def assign_bits(bin, symbol_bits):\n",
    "    return \"\".join([symbol_bits[str(sym)] for sym in bin])\n",
    "\n",
    "compressed_a = assign_bits(a_bin[1:], a_symbol_bits)\n",
    "compressed_t = assign_bits(t_bin[1:], t_symbol_bits)\n",
    "compressed_g = assign_bits(g_bin[1:], g_symbol_bits)\n",
    "compressed_c = assign_bits(c_bin[1:], c_symbol_bits)\n",
    "print(len(compressed_a)+len(compressed_t)+len(compressed_g)+len(compressed_c))"
   ]
  },
  {
   "cell_type": "code",
   "execution_count": 141,
   "metadata": {},
   "outputs": [
    {
     "data": {
      "text/plain": [
       "3.6199712403437783"
      ]
     },
     "execution_count": 141,
     "metadata": {},
     "output_type": "execute_result"
    }
   ],
   "source": [
    "108248/len(genome)"
   ]
  },
  {
   "cell_type": "code",
   "execution_count": 140,
   "metadata": {},
   "outputs": [
    {
     "data": {
      "text/plain": [
       "29903"
      ]
     },
     "execution_count": 140,
     "metadata": {},
     "output_type": "execute_result"
    }
   ],
   "source": []
  },
  {
   "cell_type": "code",
   "execution_count": null,
   "metadata": {},
   "outputs": [],
   "source": []
  }
 ],
 "metadata": {
  "interpreter": {
   "hash": "879307c2bc1d4bdd62e583023e3ec92ba3b6096dba47ac80cfb515b05e9be198"
  },
  "kernelspec": {
   "display_name": "Python 3.8.11 64-bit ('Module0': conda)",
   "name": "python3"
  },
  "language_info": {
   "codemirror_mode": {
    "name": "ipython",
    "version": 3
   },
   "file_extension": ".py",
   "mimetype": "text/x-python",
   "name": "python",
   "nbconvert_exporter": "python",
   "pygments_lexer": "ipython3",
   "version": "3.8.11"
  }
 },
 "nbformat": 4,
 "nbformat_minor": 5
}

{
 "cells": [
  {
   "cell_type": "code",
   "execution_count": 2,
   "id": "69f718fd-059f-458b-9ab3-f5dd07f324b4",
   "metadata": {},
   "outputs": [
    {
     "data": {
      "text/plain": [
       "'gaagatgctcaggaaagtgactctctgaaaactcatttggaagatgaaagagataatagcgaaaagaagaagaatttggaagaagctgaattacattcaactgagaaagttccatgtattgaatttgatgatgatgattatgatacggattttgttccaccttctccagaagaaattatttctgcttcttcttcctcttcaaaatgccttagtacgttaaaggaccttgacacctctgacagaaaagaggatgttcttagcacatcaaaagatcttttgtcaaaacctgagaaaatgagtatgcaggagctgaatccagaaaccagcacagactgtgacgctagacagataagtttacagcagcagcttattcatgtgatggagcacatctgtaaattaattgatactattcctgatgataaactgaaacctttggattgtgggaacgaactgcttcagcagcggaacataagaaggaaacttctaacggaagtagattttaataaaagtgatgccagtcttcttggctcattgtggagatacaggcctgattcacttgatggccctatggagggtgattcctgccctacagggaattctatgaaggagttaaatttttcacaccttccctcaaattctgtttctcctggggactgtttactgactaccaccctaggaaagacaggattctctgccaccaggaagaatctttttgaaaggcctttattcaatacccatttacagaagtcctttgtaagtagcaactgggctgaaacaccaagactaggaaaaaaaaatgaaagctcttatttcccaggaaatgttctcacaagcactgctgtgaaagatcagaataaacatactgcttcaataaatgacttagaaagagaaacccaaccttcctatgatattgataattttgacatagatgactttgatgatgatgatgactgggaagacataatgcataatttagcagccagcaaatcttccacagctgcctatcaacccatcaaggaaggtcggccaattaaatcagtatcagaaagactttcctcagccaagacagactgtcttccagtgtcatctactgctcaaaatataaacttctcagagtcaattcagaattatactgacaagtcagcacaaaatttagcatccagaaatctgaaacatgagcgtttccaaagtcttagttttcctcatacaaaggaaatgatgaagatttttcataaaaaatttggcctgcataattttagaactaatcagctagaggcgatcaatgctgcactgcttggtgaagactgttttatcctgatgccgactggaggtggtaagagtttgtgttaccagctccctgcctgtgtttctcctggggtcactgttgtcatttctcccttgagatcacttatcgtagatcaagtccaaaagctgacttccttggatattccagctacatatctgacaggtgataagactgactcagaagctacaaatatttacctccagttatcaaaaaaagacccaatcataaaacttctatatgtcactccagaaaagatctgtgcaagtaacagactcatttctactctggagaatctctatgagaggaagctcttggcacgttttgttattgatgaagcacattgtgtcagtcagtggggacatgattttcgtcaagattacaaaagaatgaatatgcttcgccagaagtttccttctgttccggtgatggctcttacggccacagctaatcccagggtacagaaggacatcctgactcagctgaagattctcagacctcaggtgtttagcatgagctttaacagacataatctgaaatactatgtattaccgaaaaagcctaaaaaggtggcatttgattgcctagaatggatcagaaagcaccacccatatgattcagggataatttactgcctctccaggcgagaatgtgacaccatggctgacacgttacagaagtggattaatcaggatggctgtcaggttatctgtgctacaattgcatttggaatggggattgacaaaccggacgtgcgatttgtgattcatgcatctctccctaaatctgtggagggttactaccaagaatctggcagagctggaagagatggggaaatatctcactgcctgcttttctatacctatcatgatgtgaccagactgaaaagacttataatgatggaaaaagatggaaaccatcatacaagagaaactcacttcaataatttgtatagcatggtacattactgtgaaaatataacggaatgcaggagaatacagcttttggcctactttggtgaaaatggatttaatcctgatttttgtaagaaacacccagatgtttcttgtgataattgctgtaaaacaaaggattataaaacaagagatgtgactgacgatgtgaaaagtattgtaagatttgttcaagaacatagttcatcacaaggaatgagaaatataaaacatgtaggtccttctggaagatttactatgaatatgctggtcgacattttcttggggagtaagagtgcaaaaatccagtcaggtatatttggaaaaggatctgcttattcacgacacaatgccgaaagactttttaaaaagctgatacttgacaagattttggatgaagacttatatatcaatgccaatgaccaggcgatcgcttatgtgatggaaaattccagcagtgtgaaaaaacaaaaagcgttagtagcaaaagtgtctcagagggaagagatggttaaaaaatgtcttggagaacttacagaagtctgcaaatctctggggaaagtttttggtgtccattacttcaatatttttaataccgtcactctcaagaagcttgcagaatctttatcttctgatcctgaggttttgcttcaaattgatggtgttactgaagacaaactggaaaaatatggtgcggaagtgatttcagtattacagaaatactctgaatggacatcgccagctgaagacagttccccagggataagcctgtccagcagcagaggccccggaagaagtgccgctgaggagctcgacgaggaaatacccgtatcttcccactactttgcaagtaaaaccagaaatgaaaggaagaggaaaaagatgccagcctcccaaaggtctaagaggagaaaaactgcttccagtggttccaaggcaaagggggggtctgccacatgtagaaagatatcttccaaaacgaaatcctccagcatcattggatccagttcagcctcacatacttctcaagcgacatcaggagccaatagcaaattggggattatggctccaccgaagcctataaatagaccgtttcttaagccttcatatgcattctcataacaaccgaatctcaatgtacatagaccctctttcttgtttgtcagcatctgaccatctgtgactataa'"
      ]
     },
     "execution_count": 2,
     "metadata": {},
     "output_type": "execute_result"
    }
   ],
   "source": [
    "f = open(\"bloom-syndrome-protein.txt\", \"r\")\n",
    "lines = f.readlines()\n",
    "genome = ''.join(''.join(lines).split())\n",
    "genome"
   ]
  },
  {
   "cell_type": "code",
   "execution_count": 3,
   "id": "8cdc4547-ef75-4279-b268-108aa353ac93",
   "metadata": {},
   "outputs": [
    {
     "data": {
      "text/plain": [
       "3139"
      ]
     },
     "execution_count": 3,
     "metadata": {},
     "output_type": "execute_result"
    }
   ],
   "source": [
    "# Basic Run length encoding \n",
    "MAX_RUN = 4 #not being used currently\n",
    "genome_size = len(genome)\n",
    "\n",
    "def run_length_coding(sequence):\n",
    "    compressed = \"\"\n",
    "    size = len(sequence)\n",
    "    i = 0\n",
    "    while i < size: \n",
    "        run_length = 1\n",
    "        k = i+1\n",
    "        while k < size and sequence[i]==sequence[k]:\n",
    "            run_length += 1\n",
    "            k += 1\n",
    "    \n",
    "        compressed += sequence[i] + str(run_length)*( 0 if run_length==1 else 1)\n",
    "        i = k   \n",
    "    return compressed\n",
    "\n",
    "result = run_length_coding(genome)\n",
    "len(result)"
   ]
  },
  {
   "cell_type": "code",
   "execution_count": 4,
   "id": "db26c4e5-7d3d-4496-9d55-1eeb1d2c4937",
   "metadata": {},
   "outputs": [
    {
     "name": "stdout",
     "output_type": "stream",
     "text": [
      "1120\n"
     ]
    }
   ],
   "source": [
    "# Gzip compression\n",
    "import gzip\n",
    "compressed_gzip = gzip.compress(bytes(genome, 'utf-8'))\n",
    "print (len(compressed_gzip))"
   ]
  },
  {
   "cell_type": "code",
   "execution_count": 5,
   "id": "864d3c4f-67f3-4695-8d59-7d5c71cc95d4",
   "metadata": {},
   "outputs": [
    {
     "name": "stdout",
     "output_type": "stream",
     "text": [
      "1020\n"
     ]
    }
   ],
   "source": [
    "# Bzip2 compression\n",
    "import bz2\n",
    "compressed_bzip = bz2.compress(bytes(genome, 'utf-8'))\n",
    "print (len(compressed_bzip))"
   ]
  },
  {
   "cell_type": "code",
   "execution_count": 9,
   "id": "357570c4",
   "metadata": {},
   "outputs": [
    {
     "name": "stdout",
     "output_type": "stream",
     "text": [
      "0211022140611021104130211 0\n",
      "2-1 : 2-3 : 1-5 : 1-7 : 5-9 : 1-11 : 2-13 : 3-15 : 3-17 : 1-19 : 7-21 : 4-23 : 3-25 : 1-27 : 5-29 : 2-31 : 1-33 : 1-35 : 2-37 : 3-39 : 1-41 : 1-43 : 1-45 : 1-47 : 1-49 : 2-51 : 1-53 : 1-55 : 3-57 : 4-59 : 1-61 : 2-63 : 1-65 : 2-67 : 1-69 : 2-71 : 5-73 : 2-75 : 1-77 : 2-79 : 4-81 : 2-83 : 2-85 : 1-87 : 1-89 : 1-91 : 3-93 : 2-95 : 3-97 : 1-99 : 1-101 : 3-103 : 5-105 : 1-107 : 3-109 : 1-111 : 3-113 : 2-115 : 4-117 : 1-119 : 2-121 : 1-123 : 2-125 : 1-127 : 2-129 : 1-131 : 2-133 : 1-135 : 2-137 : 1-139 : 1-141 : 1-143 : 3-145 : 1-147 : 9-149 : 1-151 : 8-153 : 1-155 : 1-157 : 2-159 : 1-161 : 3-163 : 2-165 : 1-167 : 2-169 : 1-171 : 0-173 : 1-175 : 0-177 : 1-179 : 0-181 : 1-183 : 0-185 : 1-187 : 0-189 : 1-191 : 0-193 : 1-195 : 0-197 : 1-199 : 0-201 : 1-203 : 0-205 : 1-207 : 0-209 : 1-211 : 0-213 : 1-215 : 0-217 : 1-219 : 0-221 : 1-223 : 0-225 : 1-227 : 0-229 : 1-231 : 0-233 : 1-235 : 0-237 : 1-239 : 0-241 : 1-243 : 0-245 : 1-247 : 0-249 : 1-251 : 0-253 : 1-255 : 0-257 : 1-259 : 0-261 : 1-263 : 0-265 : 1-267 : 0-269 : 1-271 : 0-273 : 1-275 : 0-277 : 1-279 : 0-281 : 1-283 : 0-285 : 1-287 : 0-289 : 1-291 : 0-293 : 1-295 : 0-297 : 1-299 : 0-301 : 1-303 : 0-305 : 1-307 : 0-309 : 1-311 : 0-313 : 1-315 : 0-317 : 1-319 : 0-321 : 1-323 : 0-325 : 1-327 : 0-329 : 1-331 : 0-333 : 1-335 : 0-337 : 1-339 : 0-341 : 1-343 : 0-345 : 1-347 : 0-349 : 1-351 : 0-353 : 1-355 : 0-357 : 1-359 : 0-361 : 1-363 : 0-365 : 1-367 : 0-369 : 1-371 : 0-373 : 1-375 : 0-377 : 1-379 : 0-381 : 1-383 : 0-385 : 1-387 : 0-389 : 1-391 : 0-393 : 1-395 : 0-397 : 1-399 : 0-401 : 1-403 : 0-405 : 1-407 : 0-409 : 1-411 : 0-413 : 1-415 : 0-417 : 1-419 : 0-421 : 1-423 : 0-425 : 1-427 : 0-429 : 1-431 : 0-433 : 1-435 : 0-437 : 1-439 : 0-441 : 1-443 : 0-445 : 1-447 : 0-449 : 1-451 : 0-453 : 1-455 : 0-457 : 1-459 : 0-461 : 1-463 : 0-465 : 3-467 : 1-469 : 6-471 : 1-473 : 1-475 : 1-477 : 1-479 : 1-481 : 1-483 : 1-485 : 6-487 : 1-489 : 3-491 : 1-493 : 4-495 : 1-497 : 7-499 : 1-501 : 3-503 : 1-505 : 5-507 : 1-509 : 1-511 : 1-513 : 0-515 : 1-517 : 0-519 : 1-521 : 0-523 : 1-525 : 0-527 : 1-529 : 0-531 : 1-533 : 0-535 : 1-537 : 0-539 : 1-541 : 0-543 : 1-545 : 0-547 : 1-549 : 0-551 : 7-553 : 1-555 : 6-557 : 1-559 : 3-561 : 1-563 : 2-565 : 1-567 : 2-569 : 1-571 : 4-573 : 1-575 : 2-577 : 3-579 : 1-581 : 1-583 : 1-585 : 1-587 : 2-589 : 1-591 : 9-593 : 1-595 : 2-597 : 1-599 : 2-601 : 2-603 : 1-605 : 2-607 : 8-609 : 3-611 : 7-613 : 1-615 : 3-617 : 2-619 : 1-621 : 1-623 : 3-625 : 1-627 : 3-629 : 1-631 : 1-633 : 1-635 : 1-637 : 2-639 : 9-641 : 2-643 : 2-645 : 1-647 : 2-649 : 2-651 : 8-653 : 3-655 : 1-657 : 1-659 : 2-661 : 2-663 : 1-665 : 1-667 : 2-669 : 1-671 : 2-673 : 9-675 : 2-677 : 3-679 : 6-681 : 1-683 : 6-685 : 1-687 : 2-689 : 3-691 : 7-693 : 1-695 : 1-697 : 2-699 : 2-701 : 1-703 : 8-705 : 3-707 : 1-709 : 1-711 : 2-713 : 1-715 : 1-717 : 2-719 : 1-721 : 3-723 : 1-725 : 1-727 : 1-729 : 1-731 : 7-733 : 2-735 : 1-737 : 3-739 : 2-741 : 1-743 : 3-745 : 1-747 : 1-749 : 3-751 : 1-753 : 1-755 : 1-757 : 3-759 : 3-761 : 2-763 : 7-765 : 1-767 : 2-769 : 1-771 : 1-773 : 1-775 : 3-777 : 1-779 : 1-781 : 2-783 : 5-785 : 1-787 : 1-789 : 1-791 : 1-793 : 1-795 : 1-797 : 1-799 : 2-801 : 1-803 : 5-805 : 1-807 : 2-809 : 1-811 : 2-813 : 1-815 : 2-817 : 1-819 : 2-821 : 1-823 : 5-825 : 2-827 : 1-829 : 1-831 : 1-833 : 1-835 : 1-837 : 2-839 : 3-841 : 1-843 : 1-845 : 2-847 : 3-849 : 1-851 : 2-853 : 1-855 : 3-857 : 1-859 : 2-861 : 3-863 : 6-865 : 1-867 : 1-869 : 1-871 : 7-873 : 1-875 : 2-877 : 2-879 : 3-881 : 1-883 : 2-885 : 2-887 : 2-889 : 2-891 : 8-893 : 2-895 : 2-897 : 3-899 : 2-901 : 1-903 : 2-905 : 1-907 : 2-909 : 1-911 : 1-913 : 3-915 : 1-917 : 1-919 : 8-921 : 1-923 : 3-925 : 2-927 : 1-929 : 1-931 : 1-933 : 1-935 : 1-937 : 1-939 : 9-941 : 1-943 : 5-945 : 1-947 : 3-949 : 1-951 : 6-953 : 4-955 : 1-957 : 1-959 : 1-961 : 3-963 : 6-965 : 1-967 : 1-969 : 1-971 : 3-973 : 2-975 : 3-977 : 1-979 : 1-981 : 2-983 : 2-985 : 1-987 : 1-989 : 1-991 : 3-993 : 1-995 : 1-997 : 2-999 : 3-1001 : 1-1003 : 2-1005 : 1-1007 : 1-1009 : 4-1011 : 3-1013 : 1-1015 : 2-1017 : 1-1019 : 3-1021 : 1-1023 : 1-1025 : 3-1027 : 4-1029 : 3-1031 : 1-1033 : 1-1035 : 2-1037 : 1-1039 : 8-1041 : 3-1043 : 5-1045 : 1-1047 : 9-1049 : 1-1051 : 1-1053 : 1-1055 : 1-1057 : 3-1059 : 2-1061 : 3-1063 : 2-1065 : 1-1067 : 2-1069 : 2-1071 : 1-1073 : 1-1075 : 6-1077 : 1-1079 : 1-1081 : 6-1083 : 1-1085 : 1-1087 : 0-1089 : 1-1091 : 0-1093 : 1-1095 : 0-1097 : 1-1099 : 0-1101 : 1-1103 : 0-1105 : 1-1107 : 0-1109 : 1-1111 : 0-1113 : 1-1115 : 0-1117 : 1-1119 : 0-1121 : 1-1123 : 0-1125 : 1-1127 : 0-1129 : 0-1131 : 2-1133 : 1-1135 : 1-1137 : 7-1139 : 1-1141 : 5-1143 : 1-1145 : 5-1147 : 1-1149 : 4-1151 : 1-1153 : 6-1155 : 2-1157 : 1-1159 : 1-1161 : 9-1163 : 1-1165 : 2-1167 : 1-1169 : 2-1171 : 1-1173 : 0-1175 : 1-1177 : 0-1179 : 1-1181 : 1-1183 : 1-1185 : 1-1187 : 2-1189 : 1-1191 : 3-1193 : 1-1195 : 4-1197 : 1-1199 : 1-1201 : 1-1203 : 2-1205 : 2-1207 : 4-1209 : 4-1211 : 4-1213 : 1-1215 : 9-1217 : 1-1219 : 1-1221 : 1-1223 : 4-1225 : 1-1227 : 3-1229 : 1-1231 : 1-1233 : 1-1235 : 1-1237 : 1-1239 : 4-1241 : 1-1243 : 1-1245 : 1-1247 : 4-1249 : 1-1251 : 1-1253 : 2-1255 : 1-1257 : 1-1259 : 3-1261 : 1-1263 : 3-1265 : 1-1267 : 1-1269 : 2-1271 : 3-1273 : 1-1275 : 1-1277 : 3-1279 : 1-1281 : 1-1283 : 3-1285 : 1-1287 : 5-1289 : 1-1291 : 3-1293 : 1-1295 : 2-1297 : 7-1299 : 1-1301 : 1-1303 : 3-1305 : 2-1307 : 2-1309 : 1-1311 : 1-1313 : 4-1315 : 5-1317 : 1-1319 : 1-1321 : 1-1323 : 4-1325 : 1-1327 : 4-1329 : 1-1331 : 1-1333 : 4-1335 : 1-1337 : 1-1339 : 7-1341 : 2-1343 : 2-1345 : 2-1347 : 1-1349 : 1-1351 : 1-1353 : 1-1355 : 3-1357 : 1-1359 : 5-1361 : 1-1363 : 6-1365 : 1-1367 : 1-1369 : 2-1371 : 5-1373 : 1-1375 : 2-1377 : 1-1379 : 1-1381 : 1-1383 : 2-1385 : 2-1387 : 9-1389 : 1-1391 : 9-1393 : 1-1395 : 3-1397 : 1-1399 : 2-1401 : 2-1403 : 2-1405 : 1-1407 : 1-1409 : 1-1411 : 7-1413 : 1-1415 : 3-1417 : 1-1419 : 6-1421 : 1-1423 : 1-1425 : 1-1427 : 2-1429 : 1-1431 : 8-1433 : 2-1435 : 1-1437 : 1-1439 : 2-1441 : 1-1443 : 1-1445 : 4-1447 : 1-1449 : 2-1451 : 2-1453 : 2-1455 : 1-1457 : 1-1459 : 9-1461 : 1-1463 : 1-1465 : 2-1467 : 1-1469 : 1-1471 : 0-1473 : 1-1475 : 0-1477 : 1-1479 : 0-1481 : 1-1483 : 0-1485 : 1-1487 : 0-1489 : 1-1491 : 0-1493 : 1-1495 : 0-1497 : 1-1499 : 0-1501 : 1-1503 : 0-1505 : 1-1507 : 0-1509 : 1-1511 : 0-1513 : 1-1515 : 0-1517 : 1-1519 : 0-1521 : 1-1523 : 0-1525 : 1-1527 : 0-1529 : 1-1531 : 0-1533 : 1-1535 : 0-1537 : 1-1539 : 0-1541 : 1-1543 : 0-1545 : 1-1547 : 0-1549 : 1-1551 : 0-1553 : 1-1555 : 0-1557 : 1-1559 : 0-1561 : 1-1563 : 0-1565 : 1-1567 : 0-1569 : 1-1571 : 0-1573 : 1-1575 : 0-1577 : 1-1579 : 0-1581 : 1-1583 : 0-1585 : 1-1587 : 0-1589 : 1-1591 : 0-1593 : 1-1595 : 0-1597 : 1-1599 : 0-1601 : 1-1603 : 0-1605 : 1-1607 : 0-1609 : 1-1611 : 0-1613 : 1-1615 : 0-1617 : 1-1619 : 0-1621 : 1-1623 : 0-1625 : 1-1627 : 0-1629 : 1-1631 : 0-1633 : 1-1635 : 0-1637 : 1-1639 : 0-1641 : 1-1643 : 0-1645 : 1-1647 : 0-1649 : 1-1651 : 0-1653 : 1-1655 : 0-1657 : 1-1659 : 0-1661 : 1-1663 : 0-1665 : 0-1667 : 1-1669 : 4-1671 : 1-1673 : 1-1675 : 2-1677 : 4-1679 : 1-1681 : 1-1683 : 1-1685 : 2-1687 : 1-1689 : 6-1691 : 1-1693 : 1-1695 : 1-1697 : 4-1699 : 1-1701 : 1-1703 : 1-1705 : 1-1707 : 2-1709 : 4-1711 : 1-1713 : 2-1715 : 2-1717 : 2-1719 : 1-1721 : 2-1723 : 1-1725 : 8-1727 : 1-1729 : 4-1731 : 1-1733 : 8-1735 : 1-1737 : 1-1739 : 2-1741 : 4-1743 : 1-1745 : 5-1747 : 2-1749 : 5-1751 : 1-1753 : 3-1755 : 1-1757 : 1-1759 : 3-1761 : 4-1763 : 1-1765 : 6-1767 : 1-1769 : 6-1771 : 1-1773 : 3-1775 : 1-1777 : 3-1779 : 1-1781 : 9-1783 : 3-1785 : 7-1787 : 1-1789 : 5-1791 : 1-1793 : 2-1795 : 1-1797 : 2-1799 : 2-1801 : 1-1803 : 2-1805 : 6-1807 : 1-1809 : 1-1811 : 1-1813 : 5-1815 : 2-1817 : 1-1819 : 1-1821 : 1-1823 : 1-1825 : 5-1827 : 3-1829 : 1-1831 : 1-1833 : 4-1835 : 1-1837 : 1-1839 : 1-1841 : 0-1843 : 1-1845 : 0-1847 : 1-1849 : 0-1851 : 1-1853 : 0-1855 : 1-1857 : 0-1859 : 1-1861 : 0-1863 : 1-1865 : 0-1867 : 1-1869 : 0-1871 : 1-1873 : 0-1875 : 1-1877 : 0-1879 : 1-1881 : 0-1883 : 1-1885 : 0-1887 : 1-1889 : 0-1891 : 1-1893 : 0-1895 : 1-1897 : 0-1899 : 1-1901 : 0-1903 : 1-1905 : 0-1907 : 1-1909 : 0-1911 : 1-1913 : 0-1915 : 1-1917 : 0-1919 : 1-1921 : 0-1923 : 1-1925 : 0-1927 : 1-1929 : 0-1931 : 1-1933 : 0-1935 : 1-1937 : 0-1939 : 1-1941 : 0-1943 : 1-1945 : 0-1947 : 1-1949 : 0-1951 : 1-1953 : 0-1955 : 1-1957 : 0-1959 : 1-1961 : 0-1963 : 1-1965 : 0-1967 : 1-1969 : 0-1971 : 1-1973 : 0-1975 : 1-1977 : 0-1979 : 1-1981 : 0-1983 : 1-1985 : 0-1987 : 1-1989 : 0-1991 : 1-1993 : 0-1995 : 1-1997 : 0-1999 : 1-2001 : 1-2003 : 8-2005 : 4-2007 : 3-2009 : 1-2011 : 3-2013 : 2-2015 : 5-2017 : 1-2019 : 7-2021 : 2-2023 : 1-2025 : 3-2027 : 1-2029 : 1-2031 : 3-2033 : 1-2035 : 1-2037 : 1-2039 : 1-2041 : 1-2043 : 0-2045 : 1-2047 : 0-2049 : 1-2051 : 0-2053 : 1-2055 : 0-2057 : 1-2059 : 0-2061 : 1-2063 : 0-2065 : 1-2067 : 0-2069 : 1-2071 : 0-2073 : 1-2075 : 0-2077 : 1-2079 : 0-2081 : 1-2083 : 0-2085 : 1-2087 : 0-2089 : 1-2091 : 0-2093 : 1-2095 : 0-2097 : 1-2099 : 0-2101 : 1-2103 : 0-2105 : 1-2107 : 0-2109 : 1-2111 : 0-2113 : 1-2115 : 0-2117 : 1-2119 : 0-2121 : 1-2123 : 0-2125 : 1-2127 : 0-2129 : 1-2131 : 0-2133 : 1-2135 : 0-2137 : 1-2139 : 0-2141 : 1-2143 : 0-2145 : 1-2147 : 0-2149 : 1-2151 : 0-2153 : 1-2155 : 0-2157 : 1-2159 : 0-2161 : 1-2163 : 0-2165 : 1-2167 : 2-2169 : 1-2171 : 1-2173 : 3-2175 : 1-2177 : 2-2179 : 1-2181 : 2-2183 : 2-2185 : 1-2187 : 1-2189 : 9-2191 : 1-2193 : 1-2195 : 1-2197 : 1-2199 : 1-2201 : 0-2203 : 1-2205 : 0-2207 : 1-2209 : 0-2211 : 1-2213 : 0-2215 : 1-2217 : 0-2219 : 1-2221 : 0-2223 : 1-2225 : 0-2227 : 1-2229 : 0-2231 : 1-2233 : 0-2235 : 1-2237 : 0-2239 : 1-2241 : 0-2243 : 1-2245 : 0-2247 : 1-2249 : 0-2251 : 1-2253 : 0-2255 : 1-2257 : 0-2259 : 1-2261 : 0-2263 : 1-2265 : 0-2267 : 1-2269 : 0-2271 : 1-2273 : 0-2275 : 1-2277 : 0-2279 : 1-2281 : 0-2283 : 1-2285 : 0-2287 : 1-2289 : 0-2291 : 1-2293 : 0-2295 : 1-2297 : 0-2299 : 1-2301 : 0-2303 : 1-2305 : 0-2307 : 1-2309 : 0-2311 : 1-2313 : 0-2315 : 1-2317 : 0-2319 : 1-2321 : 0-2323 : 1-2325 : 0-2327 : 1-2329 : 0-2331 : 1-2333 : 0-2335 : 1-2337 : 0-2339 : 1-2341 : 0-2343 : 1-2345 : 0-2347 : 1-2349 : 0-2351 : 1-2353 : 0-2355 : 1-2357 : 0-2359 : 1-2361 : 0-2363 : 1-2365 : 0-2367 : 1-2369 : 0-2371 : 1-2373 : 0-2375 : 1-2377 : 0-2379 : 1-2381 : 0-2383 : 1-2385 : 0-2387 : 1-2389 : 0-2391 : 1-2393 : 0-2395 : 1-2397 : 0-2399 : 1-2401 : 0-2403 : 1-2405 : 0-2407 : 1-2409 : 0-2411 : 1-2413 : 0-2415 : 1-2417 : 0-2419 : 1-2421 : 0-2423 : 1-2425 : 0-2427 : 3-2429 : 1-2431 : 2-2433 : 1-2435 : 4-2437 : 2-2439 : 1-2441 : 1-2443 : 5-2445 : 2-2447 : 1-2449 : 1-2451 : 5-2453 : 1-2455 : 5-2457 : 2-2459 : 1-2461 : 2-2463 : 6-2465 : 1-2467 : 1-2469 : 2-2471 : 5-2473 : 1-2475 : 7-2477 : 1-2479 : 5-2481 : 1-2483 : 1-2485 : 1-2487 : 0-2489 : 1-2491 : 0-2493 : 1-2495 : 0-2497 : 1-2499 : 0-2501 : 1-2503 : 0-2505 : 1-2507 : 0-2509 : 1-2511 : 0-2513 : 1-2515 : 0-2517 : 1-2519 : 0-2521 : 1-2523 : 0-2525 : 1-2527 : 0-2529 : 1-2531 : 0-2533 : 1-2535 : 0-2537 : 1-2539 : 0-2541 : 1-2543 : 0-2545 : 1-2547 : 0-2549 : 1-2551 : 0-2553 : 1-2555 : 0-2557 : 1-2559 : 0-2561 : 1-2563 : 0-2565 : 1-2567 : 0-2569 : 1-2571 : 0-2573 : 1-2575 : 0-2577 : 1-2579 : 0-2581 : 1-2583 : 0-2585 : 1-2587 : 0-2589 : 1-2591 : 0-2593 : 1-2595 : 0-2597 : 1-2599 : 0-2601 : 1-2603 : 0-2605 : 1-2607 : 0-2609 : 1-2611 : 0-2613 : 1-2615 : 0-2617 : 1-2619 : 0-2621 : 1-2623 : 0-2625 : 1-2627 : 0-2629 : 1-2631 : 0-2633 : 1-2635 : 0-2637 : 1-2639 : 0-2641 : 1-2643 : 0-2645 : 1-2647 : 0-2649 : 1-2651 : 0-2653 : 1-2655 : 0-2657 : 1-2659 : 0-2661 : 1-2663 : 0-2665 : 1-2667 : 0-2669 : 1-2671 : 0-2673 : 1-2675 : 0-2677 : 1-2679 : 0-2681 : 1-2683 : 0-2685 : 1-2687 : 0-2689 : 1-2691 : 0-2693 : 1-2695 : 0-2697 : 1-2699 : 0-2701 : 1-2703 : 0-2705 : 1-2707 : 0-2709 : 1-2711 : 0-2713 : 1-2715 : 0-2717 : 1-2719 : 0-2721 : 3-2723 : 1-2725 : 1-2727 : 1-2729 : 3-2731 : 1-2733 : 1-2735 : 3-2737 : 1-2739 : 1-2741 : 1-2743 : 1-2745 : 6-2747 : 4-2749 : 2-2751 : 3-2753 : 6-2755 : 1-2757 : 2-2759 : 1-2761 : 2-2763 : 1-2765 : 4-2767 : 1-2769 : 3-2771 : 1-2773 : 4-2775 : 1-2777 : 5-2779 : 1-2781 : 1-2783 : 1-2785 : 1-2787 : 1-2789 : 6-2791 : 2-2793 : 3-2795 : 1-2797 : 1-2799 : 1-2801 : 2-2803 : 1-2805 : 2-2807 : 1-2809 : 3-2811 : 2-2813 : 1-2815 : 1-2817 : 2-2819 : 3-2821 : 6-2823 : 1-2825 : 2-2827 : 1-2829 : 7-2831 : 1-2833 : 3-2835 : 2-2837 : 4-2839 : 1-2841 : 1-2843 : 3-2845 : 1-2847 : 1-2849 : 1-2851 : 1-2853 : 9-2855 : 2-2857 : 6-2859 : 1-2861 : 1-2863 : 1-2865 : 3-2867 : 1-2869 : 5-2871 : 1-2873 : 1-2875 : 2-2877 : 1-2879 : 2-2881 : 3-2883 : 2-2885 : 4-2887 : 2-2889 : 3-2891 : 1-2893 : 1-2895 : 1-2897 : 1-2899 : 1-2901 : 1-2903 : 1-2905 : 1-2907 : 1-2909 : 0-2911 : 1-2913 : 0-2915 : 1-2917 : 0-2919 : 1-2921 : 0-2923 : 1-2925 : 0-2927 : 1-2929 : 0-2931 : 1-2933 : \n"
     ]
    }
   ],
   "source": [
    "# Split encoding\n",
    "a_rle = []\n",
    "g_rle = []\n",
    "c_rle = []\n",
    "t_rle = []\n",
    "for i in range(genome_size):\n",
    "    if genome[i] == 'a':\n",
    "        a_rle.append('1')\n",
    "    else:\n",
    "        a_rle.append('0')\n",
    "\n",
    "    if genome[i] == 'g':\n",
    "        g_rle.append('1')\n",
    "    else:\n",
    "        g_rle.append('0')\n",
    "    if genome[i] == 'c':\n",
    "        c_rle.append('1')\n",
    "    else:\n",
    "        c_rle.append('0')\n",
    "    if genome[i] == 't':\n",
    "        t_rle.append('1')\n",
    "    else:\n",
    "        t_rle.append('0')\n",
    "\n",
    "def split_encoding(sequence):\n",
    "    sequence = ['0'] + sequence #start every sequence with 0\n",
    "    compressed = \"\"\n",
    "    size = len(sequence)\n",
    "    i = 0\n",
    "    while i < size: \n",
    "        run_length = 1\n",
    "        k = i+1\n",
    "        while k < size and sequence[i]==sequence[k]:\n",
    "            run_length += 1\n",
    "            k += 1\n",
    "        compressed += sequence[i] + str(run_length)\n",
    "        i = k\n",
    "    new_compress = ''\n",
    "    print (compressed[164:189], compressed[189])\n",
    "    for i in range(len(compressed)):\n",
    "        if i%2==1:\n",
    "            new_compress += compressed[i] + f\"-{i} : \"\n",
    "    return new_compress\n",
    "\n",
    "\n",
    "print (split_encoding(a_rle))\n",
    "# print (split_encoding(g_rle))\n"
   ]
  }
 ],
 "metadata": {
  "interpreter": {
   "hash": "879307c2bc1d4bdd62e583023e3ec92ba3b6096dba47ac80cfb515b05e9be198"
  },
  "kernelspec": {
   "display_name": "Python 3.8.11 64-bit ('Module0': conda)",
   "name": "python3"
  },
  "language_info": {
   "codemirror_mode": {
    "name": "ipython",
    "version": 3
   },
   "file_extension": ".py",
   "mimetype": "text/x-python",
   "name": "python",
   "nbconvert_exporter": "python",
   "pygments_lexer": "ipython3",
   "version": "3.8.11"
  }
 },
 "nbformat": 4,
 "nbformat_minor": 5
}
